{
  "nbformat": 4,
  "nbformat_minor": 0,
  "metadata": {
    "colab": {
      "name": "CBD_Dev_Nov_data - Create question and student clusters.ipynb",
      "version": "0.3.2",
      "provenance": [],
      "collapsed_sections": [],
      "include_colab_link": true
    },
    "kernelspec": {
      "name": "python3",
      "display_name": "Python 3"
    }
  },
  "cells": [
    {
      "cell_type": "markdown",
      "metadata": {
        "id": "view-in-github",
        "colab_type": "text"
      },
      "source": [
        "<a href=\"https://colab.research.google.com/github/ashwinsaba/CAI-Development/blob/master/CBD_Dev_Nov_data_Create_question_and_student_clusters.ipynb\" target=\"_parent\"><img src=\"https://colab.research.google.com/assets/colab-badge.svg\" alt=\"Open In Colab\"/></a>"
      ]
    },
    {
      "metadata": {
        "id": "BzcHnr912oFO",
        "colab_type": "text"
      },
      "cell_type": "markdown",
      "source": [
        "# Create student clusters on the basis of performance and writing behavior using hyerarchical clustering\n",
        "\n",
        "---\n",
        "\n"
      ]
    },
    {
      "metadata": {
        "id": "MF7CiZFIev2T",
        "colab_type": "text"
      },
      "cell_type": "markdown",
      "source": [
        "##Introduction\n",
        "\n",
        "The purpose of this notebook is to design the logic for the Cognitive and Behavioral Diagnostics module of C.AI. For this purpose, the high-level approach we are undertaking is nested:\n",
        "\n",
        "***Categorize Questions --> Categorize students based on question categories***\n",
        "\n",
        "We will discuss the approach in detail towards the end of the notebook."
      ]
    },
    {
      "metadata": {
        "colab_type": "text",
        "id": "n0OO2TKWQDYk"
      },
      "cell_type": "markdown",
      "source": [
        "## Data Prepararion"
      ]
    },
    {
      "metadata": {
        "id": "e0Sm-d5Y2q2u",
        "colab_type": "code",
        "outputId": "945413ce-fbd4-41e1-b86e-44e332dcfe8b",
        "colab": {
          "base_uri": "https://localhost:8080/",
          "height": 120
        }
      },
      "cell_type": "code",
      "source": [
        "#Importing required libraries\n",
        "\n",
        "import pandas as pd\n",
        "import numpy as np\n",
        "import matplotlib.pyplot as plt\n",
        "import seaborn as sns\n",
        "%matplotlib inline\n",
        "import warnings\n",
        "import os\n",
        "warnings.filterwarnings(\"ignore\")\n",
        "from functools import reduce\n",
        "from sklearn.preprocessing import StandardScaler\n",
        "from scipy.cluster.hierarchy import dendrogram, ward, linkage\n",
        "from scipy.cluster.hierarchy import fcluster\n",
        "from scipy.cluster.hierarchy import cophenet\n",
        "from scipy.spatial.distance import pdist\n",
        "from google.colab import drive\n",
        "drive.mount('/content/drive',force_remount=True)"
      ],
      "execution_count": 1,
      "outputs": [
        {
          "output_type": "stream",
          "text": [
            "Go to this URL in a browser: https://accounts.google.com/o/oauth2/auth?client_id=947318989803-6bn6qk8qdgf4n4g3pfee6491hc0brc4i.apps.googleusercontent.com&redirect_uri=urn%3Aietf%3Awg%3Aoauth%3A2.0%3Aoob&scope=email%20https%3A%2F%2Fwww.googleapis.com%2Fauth%2Fdocs.test%20https%3A%2F%2Fwww.googleapis.com%2Fauth%2Fdrive%20https%3A%2F%2Fwww.googleapis.com%2Fauth%2Fdrive.photos.readonly%20https%3A%2F%2Fwww.googleapis.com%2Fauth%2Fpeopleapi.readonly&response_type=code\n",
            "\n",
            "Enter your authorization code:\n",
            "··········\n",
            "Mounted at /content/drive\n"
          ],
          "name": "stdout"
        }
      ]
    },
    {
      "metadata": {
        "id": "fI51kxO92_zT",
        "colab_type": "code",
        "outputId": "e0ff4e0c-db35-4d3a-8d0a-f0f85942c3cb",
        "colab": {
          "base_uri": "https://localhost:8080/",
          "height": 335
        }
      },
      "cell_type": "code",
      "source": [
        "#Import the clean dataset\n",
        "\n",
        "raw1=pd.read_csv('/content/drive/My Drive/cai_data/student_testing_data_nov_2018_master.csv',index_col=0)\n",
        "raw1['TEST_ID'] = raw1['TEST_ID'].astype(str)\n",
        "raw1['QUESTION_ID'] = raw1['QUESTION_ID'].astype(str)\n",
        "raw1['STUDENT_ID'] = raw1['STUDENT_ID'].astype(str)\n",
        "raw1.describe()"
      ],
      "execution_count": 2,
      "outputs": [
        {
          "output_type": "execute_result",
          "data": {
            "text/html": [
              "<div>\n",
              "<style scoped>\n",
              "    .dataframe tbody tr th:only-of-type {\n",
              "        vertical-align: middle;\n",
              "    }\n",
              "\n",
              "    .dataframe tbody tr th {\n",
              "        vertical-align: top;\n",
              "    }\n",
              "\n",
              "    .dataframe thead th {\n",
              "        text-align: right;\n",
              "    }\n",
              "</style>\n",
              "<table border=\"1\" class=\"dataframe\">\n",
              "  <thead>\n",
              "    <tr style=\"text-align: right;\">\n",
              "      <th></th>\n",
              "      <th>RESPONSE</th>\n",
              "      <th>TOTAL_TIME</th>\n",
              "      <th>INITIAL_TIME</th>\n",
              "      <th>SOLVE_TIME</th>\n",
              "      <th>DELAYS_HIGHER_1S</th>\n",
              "      <th>STROKE_COUNT</th>\n",
              "      <th>DELAY_1S</th>\n",
              "      <th>DELAY_2S</th>\n",
              "      <th>DELAY_3S</th>\n",
              "      <th>DELAY_4S</th>\n",
              "      <th>...</th>\n",
              "      <th>TOTAL_INK_LENGTH</th>\n",
              "      <th>AVERAGE_SPEED</th>\n",
              "      <th>INITIATION_SPEED</th>\n",
              "      <th>TERMINATION_SPEED</th>\n",
              "      <th>REWORK</th>\n",
              "      <th>TOTAL_DELAY_1S</th>\n",
              "      <th>SOLVING_TIME_PRESET</th>\n",
              "      <th>QUESTION_SCORE</th>\n",
              "      <th>CORRECT_RATE_PRESET</th>\n",
              "      <th>COUNT_USED_PRESET</th>\n",
              "    </tr>\n",
              "  </thead>\n",
              "  <tbody>\n",
              "    <tr>\n",
              "      <th>count</th>\n",
              "      <td>31400.000000</td>\n",
              "      <td>31400.000000</td>\n",
              "      <td>31400.000000</td>\n",
              "      <td>31400.000000</td>\n",
              "      <td>31400.000000</td>\n",
              "      <td>31400.000000</td>\n",
              "      <td>31400.000000</td>\n",
              "      <td>31400.000000</td>\n",
              "      <td>31400.000000</td>\n",
              "      <td>31400.000000</td>\n",
              "      <td>...</td>\n",
              "      <td>31400.000000</td>\n",
              "      <td>31400.000000</td>\n",
              "      <td>31400.000000</td>\n",
              "      <td>31400.000000</td>\n",
              "      <td>31400.000000</td>\n",
              "      <td>31400.000000</td>\n",
              "      <td>31400.000000</td>\n",
              "      <td>31400.000000</td>\n",
              "      <td>29716.000000</td>\n",
              "      <td>31400.000000</td>\n",
              "    </tr>\n",
              "    <tr>\n",
              "      <th>mean</th>\n",
              "      <td>0.562739</td>\n",
              "      <td>99.378599</td>\n",
              "      <td>27.397803</td>\n",
              "      <td>39.170924</td>\n",
              "      <td>7.116083</td>\n",
              "      <td>62.624204</td>\n",
              "      <td>2.904490</td>\n",
              "      <td>0.708949</td>\n",
              "      <td>0.910510</td>\n",
              "      <td>0.333631</td>\n",
              "      <td>...</td>\n",
              "      <td>52.956903</td>\n",
              "      <td>0.696842</td>\n",
              "      <td>0.742669</td>\n",
              "      <td>0.755415</td>\n",
              "      <td>0.154873</td>\n",
              "      <td>87.605478</td>\n",
              "      <td>1.634713</td>\n",
              "      <td>5.375127</td>\n",
              "      <td>57.035432</td>\n",
              "      <td>52.653057</td>\n",
              "    </tr>\n",
              "    <tr>\n",
              "      <th>std</th>\n",
              "      <td>0.496056</td>\n",
              "      <td>104.751543</td>\n",
              "      <td>29.432468</td>\n",
              "      <td>40.118483</td>\n",
              "      <td>22.424971</td>\n",
              "      <td>69.749816</td>\n",
              "      <td>7.036452</td>\n",
              "      <td>2.276159</td>\n",
              "      <td>3.141455</td>\n",
              "      <td>1.210626</td>\n",
              "      <td>...</td>\n",
              "      <td>59.777803</td>\n",
              "      <td>0.589259</td>\n",
              "      <td>0.740672</td>\n",
              "      <td>0.832345</td>\n",
              "      <td>0.507903</td>\n",
              "      <td>86.774693</td>\n",
              "      <td>20.484739</td>\n",
              "      <td>2.698016</td>\n",
              "      <td>28.908414</td>\n",
              "      <td>55.705493</td>\n",
              "    </tr>\n",
              "    <tr>\n",
              "      <th>min</th>\n",
              "      <td>0.000000</td>\n",
              "      <td>0.000000</td>\n",
              "      <td>0.000000</td>\n",
              "      <td>0.000000</td>\n",
              "      <td>0.000000</td>\n",
              "      <td>0.000000</td>\n",
              "      <td>0.000000</td>\n",
              "      <td>0.000000</td>\n",
              "      <td>0.000000</td>\n",
              "      <td>0.000000</td>\n",
              "      <td>...</td>\n",
              "      <td>0.000000</td>\n",
              "      <td>0.000000</td>\n",
              "      <td>0.000000</td>\n",
              "      <td>0.000000</td>\n",
              "      <td>0.000000</td>\n",
              "      <td>0.000000</td>\n",
              "      <td>0.000000</td>\n",
              "      <td>1.000000</td>\n",
              "      <td>0.000000</td>\n",
              "      <td>1.000000</td>\n",
              "    </tr>\n",
              "    <tr>\n",
              "      <th>25%</th>\n",
              "      <td>0.000000</td>\n",
              "      <td>26.000000</td>\n",
              "      <td>9.000000</td>\n",
              "      <td>10.000000</td>\n",
              "      <td>0.000000</td>\n",
              "      <td>13.000000</td>\n",
              "      <td>0.000000</td>\n",
              "      <td>0.000000</td>\n",
              "      <td>0.000000</td>\n",
              "      <td>0.000000</td>\n",
              "      <td>...</td>\n",
              "      <td>11.150000</td>\n",
              "      <td>0.270000</td>\n",
              "      <td>0.170000</td>\n",
              "      <td>0.100000</td>\n",
              "      <td>0.000000</td>\n",
              "      <td>28.000000</td>\n",
              "      <td>0.000000</td>\n",
              "      <td>4.000000</td>\n",
              "      <td>34.000000</td>\n",
              "      <td>13.000000</td>\n",
              "    </tr>\n",
              "    <tr>\n",
              "      <th>50%</th>\n",
              "      <td>1.000000</td>\n",
              "      <td>67.000000</td>\n",
              "      <td>17.000000</td>\n",
              "      <td>27.000000</td>\n",
              "      <td>0.000000</td>\n",
              "      <td>40.000000</td>\n",
              "      <td>0.000000</td>\n",
              "      <td>0.000000</td>\n",
              "      <td>0.000000</td>\n",
              "      <td>0.000000</td>\n",
              "      <td>...</td>\n",
              "      <td>33.325000</td>\n",
              "      <td>0.550000</td>\n",
              "      <td>0.520000</td>\n",
              "      <td>0.480000</td>\n",
              "      <td>0.000000</td>\n",
              "      <td>61.000000</td>\n",
              "      <td>0.000000</td>\n",
              "      <td>4.000000</td>\n",
              "      <td>60.200000</td>\n",
              "      <td>29.000000</td>\n",
              "    </tr>\n",
              "    <tr>\n",
              "      <th>75%</th>\n",
              "      <td>1.000000</td>\n",
              "      <td>138.000000</td>\n",
              "      <td>34.000000</td>\n",
              "      <td>54.000000</td>\n",
              "      <td>2.000000</td>\n",
              "      <td>86.000000</td>\n",
              "      <td>2.000000</td>\n",
              "      <td>0.000000</td>\n",
              "      <td>0.000000</td>\n",
              "      <td>0.000000</td>\n",
              "      <td>...</td>\n",
              "      <td>72.182500</td>\n",
              "      <td>0.970000</td>\n",
              "      <td>1.110000</td>\n",
              "      <td>1.140000</td>\n",
              "      <td>0.000000</td>\n",
              "      <td>120.000000</td>\n",
              "      <td>0.000000</td>\n",
              "      <td>6.000000</td>\n",
              "      <td>80.400000</td>\n",
              "      <td>71.000000</td>\n",
              "    </tr>\n",
              "    <tr>\n",
              "      <th>max</th>\n",
              "      <td>1.000000</td>\n",
              "      <td>684.000000</td>\n",
              "      <td>210.000000</td>\n",
              "      <td>251.000000</td>\n",
              "      <td>247.000000</td>\n",
              "      <td>459.000000</td>\n",
              "      <td>65.000000</td>\n",
              "      <td>22.000000</td>\n",
              "      <td>32.000000</td>\n",
              "      <td>12.000000</td>\n",
              "      <td>...</td>\n",
              "      <td>393.280000</td>\n",
              "      <td>3.570000</td>\n",
              "      <td>4.160000</td>\n",
              "      <td>4.880000</td>\n",
              "      <td>4.000000</td>\n",
              "      <td>764.000000</td>\n",
              "      <td>600.000000</td>\n",
              "      <td>25.000000</td>\n",
              "      <td>100.000000</td>\n",
              "      <td>178.000000</td>\n",
              "    </tr>\n",
              "  </tbody>\n",
              "</table>\n",
              "<p>8 rows × 24 columns</p>\n",
              "</div>"
            ],
            "text/plain": [
              "           RESPONSE    TOTAL_TIME  INITIAL_TIME    SOLVE_TIME  \\\n",
              "count  31400.000000  31400.000000  31400.000000  31400.000000   \n",
              "mean       0.562739     99.378599     27.397803     39.170924   \n",
              "std        0.496056    104.751543     29.432468     40.118483   \n",
              "min        0.000000      0.000000      0.000000      0.000000   \n",
              "25%        0.000000     26.000000      9.000000     10.000000   \n",
              "50%        1.000000     67.000000     17.000000     27.000000   \n",
              "75%        1.000000    138.000000     34.000000     54.000000   \n",
              "max        1.000000    684.000000    210.000000    251.000000   \n",
              "\n",
              "       DELAYS_HIGHER_1S  STROKE_COUNT      DELAY_1S      DELAY_2S  \\\n",
              "count      31400.000000  31400.000000  31400.000000  31400.000000   \n",
              "mean           7.116083     62.624204      2.904490      0.708949   \n",
              "std           22.424971     69.749816      7.036452      2.276159   \n",
              "min            0.000000      0.000000      0.000000      0.000000   \n",
              "25%            0.000000     13.000000      0.000000      0.000000   \n",
              "50%            0.000000     40.000000      0.000000      0.000000   \n",
              "75%            2.000000     86.000000      2.000000      0.000000   \n",
              "max          247.000000    459.000000     65.000000     22.000000   \n",
              "\n",
              "           DELAY_3S      DELAY_4S        ...          TOTAL_INK_LENGTH  \\\n",
              "count  31400.000000  31400.000000        ...              31400.000000   \n",
              "mean       0.910510      0.333631        ...                 52.956903   \n",
              "std        3.141455      1.210626        ...                 59.777803   \n",
              "min        0.000000      0.000000        ...                  0.000000   \n",
              "25%        0.000000      0.000000        ...                 11.150000   \n",
              "50%        0.000000      0.000000        ...                 33.325000   \n",
              "75%        0.000000      0.000000        ...                 72.182500   \n",
              "max       32.000000     12.000000        ...                393.280000   \n",
              "\n",
              "       AVERAGE_SPEED  INITIATION_SPEED  TERMINATION_SPEED        REWORK  \\\n",
              "count   31400.000000      31400.000000       31400.000000  31400.000000   \n",
              "mean        0.696842          0.742669           0.755415      0.154873   \n",
              "std         0.589259          0.740672           0.832345      0.507903   \n",
              "min         0.000000          0.000000           0.000000      0.000000   \n",
              "25%         0.270000          0.170000           0.100000      0.000000   \n",
              "50%         0.550000          0.520000           0.480000      0.000000   \n",
              "75%         0.970000          1.110000           1.140000      0.000000   \n",
              "max         3.570000          4.160000           4.880000      4.000000   \n",
              "\n",
              "       TOTAL_DELAY_1S  SOLVING_TIME_PRESET  QUESTION_SCORE  \\\n",
              "count    31400.000000         31400.000000    31400.000000   \n",
              "mean        87.605478             1.634713        5.375127   \n",
              "std         86.774693            20.484739        2.698016   \n",
              "min          0.000000             0.000000        1.000000   \n",
              "25%         28.000000             0.000000        4.000000   \n",
              "50%         61.000000             0.000000        4.000000   \n",
              "75%        120.000000             0.000000        6.000000   \n",
              "max        764.000000           600.000000       25.000000   \n",
              "\n",
              "       CORRECT_RATE_PRESET  COUNT_USED_PRESET  \n",
              "count         29716.000000       31400.000000  \n",
              "mean             57.035432          52.653057  \n",
              "std              28.908414          55.705493  \n",
              "min               0.000000           1.000000  \n",
              "25%              34.000000          13.000000  \n",
              "50%              60.200000          29.000000  \n",
              "75%              80.400000          71.000000  \n",
              "max             100.000000         178.000000  \n",
              "\n",
              "[8 rows x 24 columns]"
            ]
          },
          "metadata": {
            "tags": []
          },
          "execution_count": 2
        }
      ]
    },
    {
      "metadata": {
        "id": "VvjYiy6Z4oKb",
        "colab_type": "code",
        "outputId": "8e10bc97-ccc7-4e69-d2ae-5bf03cf1b00c",
        "colab": {
          "base_uri": "https://localhost:8080/",
          "height": 335
        }
      },
      "cell_type": "code",
      "source": [
        "# Subset only the tests with more than 10 questions\n",
        "\n",
        "test_df1=raw1.groupby(['TEST_ID'])[['QUESTION_ID']].nunique().reset_index()\n",
        "test_df1=test_df1.rename(columns={'QUESTION_ID':'NUM_OF_QUESTIONS'})\n",
        "long_tests=test_df1['TEST_ID'][(test_df1['NUM_OF_QUESTIONS']>10)]\n",
        "raw2=raw1[raw1.TEST_ID.isin(long_tests)]\n",
        "raw2.describe()\n",
        "\n",
        "#31,400 --> 30,281"
      ],
      "execution_count": 3,
      "outputs": [
        {
          "output_type": "execute_result",
          "data": {
            "text/html": [
              "<div>\n",
              "<style scoped>\n",
              "    .dataframe tbody tr th:only-of-type {\n",
              "        vertical-align: middle;\n",
              "    }\n",
              "\n",
              "    .dataframe tbody tr th {\n",
              "        vertical-align: top;\n",
              "    }\n",
              "\n",
              "    .dataframe thead th {\n",
              "        text-align: right;\n",
              "    }\n",
              "</style>\n",
              "<table border=\"1\" class=\"dataframe\">\n",
              "  <thead>\n",
              "    <tr style=\"text-align: right;\">\n",
              "      <th></th>\n",
              "      <th>RESPONSE</th>\n",
              "      <th>TOTAL_TIME</th>\n",
              "      <th>INITIAL_TIME</th>\n",
              "      <th>SOLVE_TIME</th>\n",
              "      <th>DELAYS_HIGHER_1S</th>\n",
              "      <th>STROKE_COUNT</th>\n",
              "      <th>DELAY_1S</th>\n",
              "      <th>DELAY_2S</th>\n",
              "      <th>DELAY_3S</th>\n",
              "      <th>DELAY_4S</th>\n",
              "      <th>...</th>\n",
              "      <th>TOTAL_INK_LENGTH</th>\n",
              "      <th>AVERAGE_SPEED</th>\n",
              "      <th>INITIATION_SPEED</th>\n",
              "      <th>TERMINATION_SPEED</th>\n",
              "      <th>REWORK</th>\n",
              "      <th>TOTAL_DELAY_1S</th>\n",
              "      <th>SOLVING_TIME_PRESET</th>\n",
              "      <th>QUESTION_SCORE</th>\n",
              "      <th>CORRECT_RATE_PRESET</th>\n",
              "      <th>COUNT_USED_PRESET</th>\n",
              "    </tr>\n",
              "  </thead>\n",
              "  <tbody>\n",
              "    <tr>\n",
              "      <th>count</th>\n",
              "      <td>30281.000000</td>\n",
              "      <td>30281.000000</td>\n",
              "      <td>30281.000000</td>\n",
              "      <td>30281.000000</td>\n",
              "      <td>30281.000000</td>\n",
              "      <td>30281.000000</td>\n",
              "      <td>30281.000000</td>\n",
              "      <td>30281.000000</td>\n",
              "      <td>30281.000000</td>\n",
              "      <td>30281.000000</td>\n",
              "      <td>...</td>\n",
              "      <td>30281.000000</td>\n",
              "      <td>30281.000000</td>\n",
              "      <td>30281.000000</td>\n",
              "      <td>30281.000000</td>\n",
              "      <td>30281.000000</td>\n",
              "      <td>30281.000000</td>\n",
              "      <td>30281.000000</td>\n",
              "      <td>30281.000000</td>\n",
              "      <td>28765.000000</td>\n",
              "      <td>30281.000000</td>\n",
              "    </tr>\n",
              "    <tr>\n",
              "      <th>mean</th>\n",
              "      <td>0.561507</td>\n",
              "      <td>99.133978</td>\n",
              "      <td>27.310723</td>\n",
              "      <td>38.961395</td>\n",
              "      <td>6.853770</td>\n",
              "      <td>61.823289</td>\n",
              "      <td>2.766817</td>\n",
              "      <td>0.679832</td>\n",
              "      <td>0.877844</td>\n",
              "      <td>0.322942</td>\n",
              "      <td>...</td>\n",
              "      <td>52.504908</td>\n",
              "      <td>0.690114</td>\n",
              "      <td>0.736184</td>\n",
              "      <td>0.749039</td>\n",
              "      <td>0.148872</td>\n",
              "      <td>87.483306</td>\n",
              "      <td>0.758892</td>\n",
              "      <td>5.315445</td>\n",
              "      <td>56.782399</td>\n",
              "      <td>54.161025</td>\n",
              "    </tr>\n",
              "    <tr>\n",
              "      <th>std</th>\n",
              "      <td>0.496211</td>\n",
              "      <td>104.257015</td>\n",
              "      <td>29.269624</td>\n",
              "      <td>39.964939</td>\n",
              "      <td>22.161115</td>\n",
              "      <td>68.964611</td>\n",
              "      <td>6.861217</td>\n",
              "      <td>2.251133</td>\n",
              "      <td>3.120378</td>\n",
              "      <td>1.204940</td>\n",
              "      <td>...</td>\n",
              "      <td>59.606018</td>\n",
              "      <td>0.584941</td>\n",
              "      <td>0.738194</td>\n",
              "      <td>0.828105</td>\n",
              "      <td>0.499831</td>\n",
              "      <td>86.245615</td>\n",
              "      <td>11.673340</td>\n",
              "      <td>2.568011</td>\n",
              "      <td>28.823181</td>\n",
              "      <td>56.089562</td>\n",
              "    </tr>\n",
              "    <tr>\n",
              "      <th>min</th>\n",
              "      <td>0.000000</td>\n",
              "      <td>0.000000</td>\n",
              "      <td>0.000000</td>\n",
              "      <td>0.000000</td>\n",
              "      <td>0.000000</td>\n",
              "      <td>0.000000</td>\n",
              "      <td>0.000000</td>\n",
              "      <td>0.000000</td>\n",
              "      <td>0.000000</td>\n",
              "      <td>0.000000</td>\n",
              "      <td>...</td>\n",
              "      <td>0.000000</td>\n",
              "      <td>0.000000</td>\n",
              "      <td>0.000000</td>\n",
              "      <td>0.000000</td>\n",
              "      <td>0.000000</td>\n",
              "      <td>0.000000</td>\n",
              "      <td>0.000000</td>\n",
              "      <td>1.000000</td>\n",
              "      <td>0.000000</td>\n",
              "      <td>1.000000</td>\n",
              "    </tr>\n",
              "    <tr>\n",
              "      <th>25%</th>\n",
              "      <td>0.000000</td>\n",
              "      <td>26.000000</td>\n",
              "      <td>9.000000</td>\n",
              "      <td>10.000000</td>\n",
              "      <td>0.000000</td>\n",
              "      <td>13.000000</td>\n",
              "      <td>0.000000</td>\n",
              "      <td>0.000000</td>\n",
              "      <td>0.000000</td>\n",
              "      <td>0.000000</td>\n",
              "      <td>...</td>\n",
              "      <td>10.990000</td>\n",
              "      <td>0.260000</td>\n",
              "      <td>0.160000</td>\n",
              "      <td>0.100000</td>\n",
              "      <td>0.000000</td>\n",
              "      <td>28.000000</td>\n",
              "      <td>0.000000</td>\n",
              "      <td>4.000000</td>\n",
              "      <td>33.400000</td>\n",
              "      <td>15.000000</td>\n",
              "    </tr>\n",
              "    <tr>\n",
              "      <th>50%</th>\n",
              "      <td>1.000000</td>\n",
              "      <td>67.000000</td>\n",
              "      <td>17.000000</td>\n",
              "      <td>27.000000</td>\n",
              "      <td>0.000000</td>\n",
              "      <td>39.000000</td>\n",
              "      <td>0.000000</td>\n",
              "      <td>0.000000</td>\n",
              "      <td>0.000000</td>\n",
              "      <td>0.000000</td>\n",
              "      <td>...</td>\n",
              "      <td>32.800000</td>\n",
              "      <td>0.540000</td>\n",
              "      <td>0.510000</td>\n",
              "      <td>0.470000</td>\n",
              "      <td>0.000000</td>\n",
              "      <td>61.000000</td>\n",
              "      <td>0.000000</td>\n",
              "      <td>4.000000</td>\n",
              "      <td>60.000000</td>\n",
              "      <td>31.000000</td>\n",
              "    </tr>\n",
              "    <tr>\n",
              "      <th>75%</th>\n",
              "      <td>1.000000</td>\n",
              "      <td>138.000000</td>\n",
              "      <td>34.000000</td>\n",
              "      <td>54.000000</td>\n",
              "      <td>2.000000</td>\n",
              "      <td>85.000000</td>\n",
              "      <td>2.000000</td>\n",
              "      <td>0.000000</td>\n",
              "      <td>0.000000</td>\n",
              "      <td>0.000000</td>\n",
              "      <td>...</td>\n",
              "      <td>71.340000</td>\n",
              "      <td>0.960000</td>\n",
              "      <td>1.100000</td>\n",
              "      <td>1.130000</td>\n",
              "      <td>0.000000</td>\n",
              "      <td>120.000000</td>\n",
              "      <td>0.000000</td>\n",
              "      <td>6.000000</td>\n",
              "      <td>80.000000</td>\n",
              "      <td>71.000000</td>\n",
              "    </tr>\n",
              "    <tr>\n",
              "      <th>max</th>\n",
              "      <td>1.000000</td>\n",
              "      <td>684.000000</td>\n",
              "      <td>210.000000</td>\n",
              "      <td>250.000000</td>\n",
              "      <td>246.000000</td>\n",
              "      <td>459.000000</td>\n",
              "      <td>65.000000</td>\n",
              "      <td>22.000000</td>\n",
              "      <td>32.000000</td>\n",
              "      <td>12.000000</td>\n",
              "      <td>...</td>\n",
              "      <td>393.280000</td>\n",
              "      <td>3.570000</td>\n",
              "      <td>4.160000</td>\n",
              "      <td>4.880000</td>\n",
              "      <td>4.000000</td>\n",
              "      <td>764.000000</td>\n",
              "      <td>300.000000</td>\n",
              "      <td>10.000000</td>\n",
              "      <td>100.000000</td>\n",
              "      <td>178.000000</td>\n",
              "    </tr>\n",
              "  </tbody>\n",
              "</table>\n",
              "<p>8 rows × 24 columns</p>\n",
              "</div>"
            ],
            "text/plain": [
              "           RESPONSE    TOTAL_TIME  INITIAL_TIME    SOLVE_TIME  \\\n",
              "count  30281.000000  30281.000000  30281.000000  30281.000000   \n",
              "mean       0.561507     99.133978     27.310723     38.961395   \n",
              "std        0.496211    104.257015     29.269624     39.964939   \n",
              "min        0.000000      0.000000      0.000000      0.000000   \n",
              "25%        0.000000     26.000000      9.000000     10.000000   \n",
              "50%        1.000000     67.000000     17.000000     27.000000   \n",
              "75%        1.000000    138.000000     34.000000     54.000000   \n",
              "max        1.000000    684.000000    210.000000    250.000000   \n",
              "\n",
              "       DELAYS_HIGHER_1S  STROKE_COUNT      DELAY_1S      DELAY_2S  \\\n",
              "count      30281.000000  30281.000000  30281.000000  30281.000000   \n",
              "mean           6.853770     61.823289      2.766817      0.679832   \n",
              "std           22.161115     68.964611      6.861217      2.251133   \n",
              "min            0.000000      0.000000      0.000000      0.000000   \n",
              "25%            0.000000     13.000000      0.000000      0.000000   \n",
              "50%            0.000000     39.000000      0.000000      0.000000   \n",
              "75%            2.000000     85.000000      2.000000      0.000000   \n",
              "max          246.000000    459.000000     65.000000     22.000000   \n",
              "\n",
              "           DELAY_3S      DELAY_4S        ...          TOTAL_INK_LENGTH  \\\n",
              "count  30281.000000  30281.000000        ...              30281.000000   \n",
              "mean       0.877844      0.322942        ...                 52.504908   \n",
              "std        3.120378      1.204940        ...                 59.606018   \n",
              "min        0.000000      0.000000        ...                  0.000000   \n",
              "25%        0.000000      0.000000        ...                 10.990000   \n",
              "50%        0.000000      0.000000        ...                 32.800000   \n",
              "75%        0.000000      0.000000        ...                 71.340000   \n",
              "max       32.000000     12.000000        ...                393.280000   \n",
              "\n",
              "       AVERAGE_SPEED  INITIATION_SPEED  TERMINATION_SPEED        REWORK  \\\n",
              "count   30281.000000      30281.000000       30281.000000  30281.000000   \n",
              "mean        0.690114          0.736184           0.749039      0.148872   \n",
              "std         0.584941          0.738194           0.828105      0.499831   \n",
              "min         0.000000          0.000000           0.000000      0.000000   \n",
              "25%         0.260000          0.160000           0.100000      0.000000   \n",
              "50%         0.540000          0.510000           0.470000      0.000000   \n",
              "75%         0.960000          1.100000           1.130000      0.000000   \n",
              "max         3.570000          4.160000           4.880000      4.000000   \n",
              "\n",
              "       TOTAL_DELAY_1S  SOLVING_TIME_PRESET  QUESTION_SCORE  \\\n",
              "count    30281.000000         30281.000000    30281.000000   \n",
              "mean        87.483306             0.758892        5.315445   \n",
              "std         86.245615            11.673340        2.568011   \n",
              "min          0.000000             0.000000        1.000000   \n",
              "25%         28.000000             0.000000        4.000000   \n",
              "50%         61.000000             0.000000        4.000000   \n",
              "75%        120.000000             0.000000        6.000000   \n",
              "max        764.000000           300.000000       10.000000   \n",
              "\n",
              "       CORRECT_RATE_PRESET  COUNT_USED_PRESET  \n",
              "count         28765.000000       30281.000000  \n",
              "mean             56.782399          54.161025  \n",
              "std              28.823181          56.089562  \n",
              "min               0.000000           1.000000  \n",
              "25%              33.400000          15.000000  \n",
              "50%              60.000000          31.000000  \n",
              "75%              80.000000          71.000000  \n",
              "max             100.000000         178.000000  \n",
              "\n",
              "[8 rows x 24 columns]"
            ]
          },
          "metadata": {
            "tags": []
          },
          "execution_count": 3
        }
      ]
    },
    {
      "metadata": {
        "id": "VKDmj8ti4xhC",
        "colab_type": "code",
        "outputId": "a6dcf560-259a-4dc0-9669-6cfe2962b9a7",
        "colab": {
          "base_uri": "https://localhost:8080/",
          "height": 335
        }
      },
      "cell_type": "code",
      "source": [
        "# Subset only the students who have answered a reasonable number of questions\n",
        "\n",
        "studentcount_df=raw1.groupby(['STUDENT_ID'])[['QUESTION_ID']].nunique().reset_index()\n",
        "studentcount_df=studentcount_df.rename(columns={'QUESTION_ID':'NUM_OF_QUESTIONS'})\n",
        "long_students=studentcount_df['STUDENT_ID'][(studentcount_df['NUM_OF_QUESTIONS']>20)]\n",
        "raw3=raw2[raw2.STUDENT_ID.isin(long_students)]\n",
        "input_df=raw3.copy()\n",
        "input_df.describe()\n",
        "\n",
        "#30,281 --> 22,844"
      ],
      "execution_count": 4,
      "outputs": [
        {
          "output_type": "execute_result",
          "data": {
            "text/html": [
              "<div>\n",
              "<style scoped>\n",
              "    .dataframe tbody tr th:only-of-type {\n",
              "        vertical-align: middle;\n",
              "    }\n",
              "\n",
              "    .dataframe tbody tr th {\n",
              "        vertical-align: top;\n",
              "    }\n",
              "\n",
              "    .dataframe thead th {\n",
              "        text-align: right;\n",
              "    }\n",
              "</style>\n",
              "<table border=\"1\" class=\"dataframe\">\n",
              "  <thead>\n",
              "    <tr style=\"text-align: right;\">\n",
              "      <th></th>\n",
              "      <th>RESPONSE</th>\n",
              "      <th>TOTAL_TIME</th>\n",
              "      <th>INITIAL_TIME</th>\n",
              "      <th>SOLVE_TIME</th>\n",
              "      <th>DELAYS_HIGHER_1S</th>\n",
              "      <th>STROKE_COUNT</th>\n",
              "      <th>DELAY_1S</th>\n",
              "      <th>DELAY_2S</th>\n",
              "      <th>DELAY_3S</th>\n",
              "      <th>DELAY_4S</th>\n",
              "      <th>...</th>\n",
              "      <th>TOTAL_INK_LENGTH</th>\n",
              "      <th>AVERAGE_SPEED</th>\n",
              "      <th>INITIATION_SPEED</th>\n",
              "      <th>TERMINATION_SPEED</th>\n",
              "      <th>REWORK</th>\n",
              "      <th>TOTAL_DELAY_1S</th>\n",
              "      <th>SOLVING_TIME_PRESET</th>\n",
              "      <th>QUESTION_SCORE</th>\n",
              "      <th>CORRECT_RATE_PRESET</th>\n",
              "      <th>COUNT_USED_PRESET</th>\n",
              "    </tr>\n",
              "  </thead>\n",
              "  <tbody>\n",
              "    <tr>\n",
              "      <th>count</th>\n",
              "      <td>22844.000000</td>\n",
              "      <td>22844.000000</td>\n",
              "      <td>22844.000000</td>\n",
              "      <td>22844.000000</td>\n",
              "      <td>22844.000000</td>\n",
              "      <td>22844.000000</td>\n",
              "      <td>22844.000000</td>\n",
              "      <td>22844.000000</td>\n",
              "      <td>22844.000000</td>\n",
              "      <td>22844.000000</td>\n",
              "      <td>...</td>\n",
              "      <td>22844.000000</td>\n",
              "      <td>22844.000000</td>\n",
              "      <td>22844.000000</td>\n",
              "      <td>22844.000000</td>\n",
              "      <td>22844.000000</td>\n",
              "      <td>22844.000000</td>\n",
              "      <td>22844.000000</td>\n",
              "      <td>22844.000000</td>\n",
              "      <td>21633.000000</td>\n",
              "      <td>22844.000000</td>\n",
              "    </tr>\n",
              "    <tr>\n",
              "      <th>mean</th>\n",
              "      <td>0.528366</td>\n",
              "      <td>100.365304</td>\n",
              "      <td>27.902600</td>\n",
              "      <td>38.938233</td>\n",
              "      <td>6.939196</td>\n",
              "      <td>61.966600</td>\n",
              "      <td>2.897347</td>\n",
              "      <td>0.688977</td>\n",
              "      <td>0.882245</td>\n",
              "      <td>0.321923</td>\n",
              "      <td>...</td>\n",
              "      <td>52.523988</td>\n",
              "      <td>0.681702</td>\n",
              "      <td>0.732444</td>\n",
              "      <td>0.753461</td>\n",
              "      <td>0.149361</td>\n",
              "      <td>89.329671</td>\n",
              "      <td>0.843110</td>\n",
              "      <td>4.205831</td>\n",
              "      <td>53.083151</td>\n",
              "      <td>61.396209</td>\n",
              "    </tr>\n",
              "    <tr>\n",
              "      <th>std</th>\n",
              "      <td>0.499206</td>\n",
              "      <td>104.520009</td>\n",
              "      <td>29.673871</td>\n",
              "      <td>39.995309</td>\n",
              "      <td>21.679244</td>\n",
              "      <td>69.109391</td>\n",
              "      <td>6.880574</td>\n",
              "      <td>2.206448</td>\n",
              "      <td>3.070529</td>\n",
              "      <td>1.183704</td>\n",
              "      <td>...</td>\n",
              "      <td>59.313644</td>\n",
              "      <td>0.583081</td>\n",
              "      <td>0.735310</td>\n",
              "      <td>0.830985</td>\n",
              "      <td>0.486043</td>\n",
              "      <td>86.608351</td>\n",
              "      <td>12.316084</td>\n",
              "      <td>1.435111</td>\n",
              "      <td>28.193976</td>\n",
              "      <td>60.165714</td>\n",
              "    </tr>\n",
              "    <tr>\n",
              "      <th>min</th>\n",
              "      <td>0.000000</td>\n",
              "      <td>0.000000</td>\n",
              "      <td>0.000000</td>\n",
              "      <td>0.000000</td>\n",
              "      <td>0.000000</td>\n",
              "      <td>0.000000</td>\n",
              "      <td>0.000000</td>\n",
              "      <td>0.000000</td>\n",
              "      <td>0.000000</td>\n",
              "      <td>0.000000</td>\n",
              "      <td>...</td>\n",
              "      <td>0.000000</td>\n",
              "      <td>0.000000</td>\n",
              "      <td>0.000000</td>\n",
              "      <td>0.000000</td>\n",
              "      <td>0.000000</td>\n",
              "      <td>0.000000</td>\n",
              "      <td>0.000000</td>\n",
              "      <td>1.000000</td>\n",
              "      <td>0.000000</td>\n",
              "      <td>1.000000</td>\n",
              "    </tr>\n",
              "    <tr>\n",
              "      <th>25%</th>\n",
              "      <td>0.000000</td>\n",
              "      <td>27.000000</td>\n",
              "      <td>9.000000</td>\n",
              "      <td>10.000000</td>\n",
              "      <td>0.000000</td>\n",
              "      <td>12.000000</td>\n",
              "      <td>0.000000</td>\n",
              "      <td>0.000000</td>\n",
              "      <td>0.000000</td>\n",
              "      <td>0.000000</td>\n",
              "      <td>...</td>\n",
              "      <td>10.837500</td>\n",
              "      <td>0.260000</td>\n",
              "      <td>0.160000</td>\n",
              "      <td>0.110000</td>\n",
              "      <td>0.000000</td>\n",
              "      <td>30.000000</td>\n",
              "      <td>0.000000</td>\n",
              "      <td>4.000000</td>\n",
              "      <td>30.500000</td>\n",
              "      <td>17.000000</td>\n",
              "    </tr>\n",
              "    <tr>\n",
              "      <th>50%</th>\n",
              "      <td>1.000000</td>\n",
              "      <td>69.000000</td>\n",
              "      <td>18.000000</td>\n",
              "      <td>27.000000</td>\n",
              "      <td>0.000000</td>\n",
              "      <td>40.000000</td>\n",
              "      <td>0.000000</td>\n",
              "      <td>0.000000</td>\n",
              "      <td>0.000000</td>\n",
              "      <td>0.000000</td>\n",
              "      <td>...</td>\n",
              "      <td>33.250000</td>\n",
              "      <td>0.530000</td>\n",
              "      <td>0.510000</td>\n",
              "      <td>0.480000</td>\n",
              "      <td>0.000000</td>\n",
              "      <td>63.000000</td>\n",
              "      <td>0.000000</td>\n",
              "      <td>4.000000</td>\n",
              "      <td>56.100000</td>\n",
              "      <td>32.000000</td>\n",
              "    </tr>\n",
              "    <tr>\n",
              "      <th>75%</th>\n",
              "      <td>1.000000</td>\n",
              "      <td>140.000000</td>\n",
              "      <td>36.000000</td>\n",
              "      <td>54.000000</td>\n",
              "      <td>3.000000</td>\n",
              "      <td>85.000000</td>\n",
              "      <td>2.000000</td>\n",
              "      <td>0.000000</td>\n",
              "      <td>0.000000</td>\n",
              "      <td>0.000000</td>\n",
              "      <td>...</td>\n",
              "      <td>72.107500</td>\n",
              "      <td>0.950000</td>\n",
              "      <td>1.090000</td>\n",
              "      <td>1.130000</td>\n",
              "      <td>0.000000</td>\n",
              "      <td>122.000000</td>\n",
              "      <td>0.000000</td>\n",
              "      <td>4.000000</td>\n",
              "      <td>76.400000</td>\n",
              "      <td>110.000000</td>\n",
              "    </tr>\n",
              "    <tr>\n",
              "      <th>max</th>\n",
              "      <td>1.000000</td>\n",
              "      <td>684.000000</td>\n",
              "      <td>209.000000</td>\n",
              "      <td>250.000000</td>\n",
              "      <td>246.000000</td>\n",
              "      <td>459.000000</td>\n",
              "      <td>65.000000</td>\n",
              "      <td>22.000000</td>\n",
              "      <td>32.000000</td>\n",
              "      <td>12.000000</td>\n",
              "      <td>...</td>\n",
              "      <td>393.280000</td>\n",
              "      <td>3.570000</td>\n",
              "      <td>4.160000</td>\n",
              "      <td>4.880000</td>\n",
              "      <td>4.000000</td>\n",
              "      <td>652.000000</td>\n",
              "      <td>300.000000</td>\n",
              "      <td>10.000000</td>\n",
              "      <td>100.000000</td>\n",
              "      <td>178.000000</td>\n",
              "    </tr>\n",
              "  </tbody>\n",
              "</table>\n",
              "<p>8 rows × 24 columns</p>\n",
              "</div>"
            ],
            "text/plain": [
              "           RESPONSE    TOTAL_TIME  INITIAL_TIME    SOLVE_TIME  \\\n",
              "count  22844.000000  22844.000000  22844.000000  22844.000000   \n",
              "mean       0.528366    100.365304     27.902600     38.938233   \n",
              "std        0.499206    104.520009     29.673871     39.995309   \n",
              "min        0.000000      0.000000      0.000000      0.000000   \n",
              "25%        0.000000     27.000000      9.000000     10.000000   \n",
              "50%        1.000000     69.000000     18.000000     27.000000   \n",
              "75%        1.000000    140.000000     36.000000     54.000000   \n",
              "max        1.000000    684.000000    209.000000    250.000000   \n",
              "\n",
              "       DELAYS_HIGHER_1S  STROKE_COUNT      DELAY_1S      DELAY_2S  \\\n",
              "count      22844.000000  22844.000000  22844.000000  22844.000000   \n",
              "mean           6.939196     61.966600      2.897347      0.688977   \n",
              "std           21.679244     69.109391      6.880574      2.206448   \n",
              "min            0.000000      0.000000      0.000000      0.000000   \n",
              "25%            0.000000     12.000000      0.000000      0.000000   \n",
              "50%            0.000000     40.000000      0.000000      0.000000   \n",
              "75%            3.000000     85.000000      2.000000      0.000000   \n",
              "max          246.000000    459.000000     65.000000     22.000000   \n",
              "\n",
              "           DELAY_3S      DELAY_4S        ...          TOTAL_INK_LENGTH  \\\n",
              "count  22844.000000  22844.000000        ...              22844.000000   \n",
              "mean       0.882245      0.321923        ...                 52.523988   \n",
              "std        3.070529      1.183704        ...                 59.313644   \n",
              "min        0.000000      0.000000        ...                  0.000000   \n",
              "25%        0.000000      0.000000        ...                 10.837500   \n",
              "50%        0.000000      0.000000        ...                 33.250000   \n",
              "75%        0.000000      0.000000        ...                 72.107500   \n",
              "max       32.000000     12.000000        ...                393.280000   \n",
              "\n",
              "       AVERAGE_SPEED  INITIATION_SPEED  TERMINATION_SPEED        REWORK  \\\n",
              "count   22844.000000      22844.000000       22844.000000  22844.000000   \n",
              "mean        0.681702          0.732444           0.753461      0.149361   \n",
              "std         0.583081          0.735310           0.830985      0.486043   \n",
              "min         0.000000          0.000000           0.000000      0.000000   \n",
              "25%         0.260000          0.160000           0.110000      0.000000   \n",
              "50%         0.530000          0.510000           0.480000      0.000000   \n",
              "75%         0.950000          1.090000           1.130000      0.000000   \n",
              "max         3.570000          4.160000           4.880000      4.000000   \n",
              "\n",
              "       TOTAL_DELAY_1S  SOLVING_TIME_PRESET  QUESTION_SCORE  \\\n",
              "count    22844.000000         22844.000000    22844.000000   \n",
              "mean        89.329671             0.843110        4.205831   \n",
              "std         86.608351            12.316084        1.435111   \n",
              "min          0.000000             0.000000        1.000000   \n",
              "25%         30.000000             0.000000        4.000000   \n",
              "50%         63.000000             0.000000        4.000000   \n",
              "75%        122.000000             0.000000        4.000000   \n",
              "max        652.000000           300.000000       10.000000   \n",
              "\n",
              "       CORRECT_RATE_PRESET  COUNT_USED_PRESET  \n",
              "count         21633.000000       22844.000000  \n",
              "mean             53.083151          61.396209  \n",
              "std              28.193976          60.165714  \n",
              "min               0.000000           1.000000  \n",
              "25%              30.500000          17.000000  \n",
              "50%              56.100000          32.000000  \n",
              "75%              76.400000         110.000000  \n",
              "max             100.000000         178.000000  \n",
              "\n",
              "[8 rows x 24 columns]"
            ]
          },
          "metadata": {
            "tags": []
          },
          "execution_count": 4
        }
      ]
    },
    {
      "metadata": {
        "id": "SHIv7QxG7k74",
        "colab_type": "text"
      },
      "cell_type": "markdown",
      "source": [
        "## Categorizing Questions - Hierarchical Clustering"
      ]
    },
    {
      "metadata": {
        "id": "EVuVjAqmDF0x",
        "colab_type": "text"
      },
      "cell_type": "markdown",
      "source": [
        "####**1. By mean TOTAL_TIME for correct responses**"
      ]
    },
    {
      "metadata": {
        "id": "fzmgPc2N73hi",
        "colab_type": "code",
        "colab": {}
      },
      "cell_type": "code",
      "source": [
        "# First, defining the function for Fancy Dendogram\n",
        "\n",
        "def fancy_dendrogram(*args, **kwargs):\n",
        "    max_d = kwargs.pop('max_d', None)\n",
        "    if max_d and 'color_threshold' not in kwargs:\n",
        "        kwargs['color_threshold'] = max_d\n",
        "    annotate_above = kwargs.pop('annotate_above', 0)\n",
        "    plt.figure(figsize=(15,10))\n",
        "    ddata = dendrogram(*args, **kwargs)\n",
        "\n",
        "    if not kwargs.get('no_plot', False):\n",
        "        plt.title('Hierarchical Clustering Dendrogram (truncated)')\n",
        "        plt.xlabel('sample index or (cluster size)')\n",
        "        plt.ylabel('distance')\n",
        "        for i, d, c in zip(ddata['icoord'], ddata['dcoord'], ddata['color_list']):\n",
        "            x = 0.5 * sum(i[1:3])\n",
        "            y = d[1]\n",
        "            if y > annotate_above:\n",
        "                plt.plot(x, y, 'o', c=c)\n",
        "                plt.annotate(\"%.3g\" % y, (x, y), xytext=(0, -5),\n",
        "                             textcoords='offset points',\n",
        "                             va='top', ha='center')\n",
        "        if max_d:\n",
        "            plt.axhline(y=max_d, c='k')\n",
        "    return ddata"
      ],
      "execution_count": 0,
      "outputs": []
    },
    {
      "metadata": {
        "id": "X4zW4laHK6xs",
        "colab_type": "code",
        "colab": {}
      },
      "cell_type": "code",
      "source": [
        "from sklearn.metrics.pairwise import euclidean_distances\n",
        "\n",
        "def gap_stat(data,label):\n",
        "    k = len(np.unique(label))\n",
        "    n = data.shape[0]\n",
        "    p = data.shape[1]\n",
        "    D_r = []\n",
        "    C_r = []\n",
        "    for label_number in range(0,k):\n",
        "        this_label_index = np.where(label==label_number)[0]\n",
        "        temp_sum = 0\n",
        "        pairwise_distance_matrix = euclidean_distances(data[this_label_index],squared=True)\n",
        "        D_r.append(np.sum(pairwise_distance_matrix))\n",
        "        C_r.append(float(len(this_label_index)))\n",
        "\n",
        "    W_r = np.sum(np.asarray(D_r)/(2*np.asarray(C_r)))\n",
        "    gap_stats = np.log(float(p*n)/12)-(2/float(p))*np.log(k)- np.log(W_r)\n",
        "    return(gap_stats)"
      ],
      "execution_count": 0,
      "outputs": []
    },
    {
      "metadata": {
        "id": "XG6x47EB9d66",
        "colab_type": "code",
        "outputId": "b22fa21e-6ed1-4e35-bbe1-f77d750cceb8",
        "colab": {
          "base_uri": "https://localhost:8080/",
          "height": 638
        }
      },
      "cell_type": "code",
      "source": [
        "\n",
        "correct_df=input_df.loc[input_df['RESPONSE'] == 1]\n",
        "question_df1=correct_df.groupby(['QUESTION_ID'])['TOTAL_TIME'].mean().reset_index()\n",
        "question_df1=question_df1.rename(columns={'TOTAL_TIME':'TOTAL_TIME_CORRECT'})\n",
        "\n",
        "scaler = StandardScaler()\n",
        "temp_scaled = scaler.fit_transform(question_df1[['TOTAL_TIME_CORRECT']])\n",
        "\n",
        "linked_array = ward(temp_scaled)\n",
        "\n",
        "fancy_dendrogram(\n",
        "    linked_array,\n",
        "    truncate_mode='lastp',\n",
        "    p=30,\n",
        "    leaf_rotation=90.,\n",
        "    leaf_font_size=12.,\n",
        "    show_contracted=True,\n",
        "    annotate_above=10,\n",
        "    max_d=21\n",
        ")\n",
        "\n",
        "plt.show()"
      ],
      "execution_count": 7,
      "outputs": [
        {
          "output_type": "display_data",
          "data": {
            "image/png": "[encoded data removed]",
            "text/plain": [
              "<matplotlib.figure.Figure at 0x7f94683e9f60>"
            ]
          },
          "metadata": {
            "tags": []
          }
        }
      ]
    },
    {
      "metadata": {
        "id": "kROaXoVrA7ij",
        "colab_type": "code",
        "outputId": "f146b3d5-01b8-48aa-d8e1-cb34abb65318",
        "colab": {
          "base_uri": "https://localhost:8080/",
          "height": 184
        }
      },
      "cell_type": "code",
      "source": [
        "max_d = 21\n",
        "\n",
        "clusters = fcluster(linked_array, max_d, criterion='distance')\n",
        "\n",
        "labels, counts = np.unique(clusters, return_counts=True)\n",
        "\n",
        "question_df1['CORRECT_TOTAL_TIME_CLUSTER'] = clusters\n",
        "\n",
        "print('Clusters Summary\\n')\n",
        "for i in range(1,len(np.unique(clusters))+1):\n",
        "    print('\\nlabel: {}'.format(i))\n",
        "    print('n: {}'.format(counts[i-1]))\n",
        "    print('AVERAGE TOTAL TIME FOR CORRECT RESPONSES: {}'.format(round(question_df1[question_df1['CORRECT_TOTAL_TIME_CLUSTER'] == i].TOTAL_TIME_CORRECT.mean(), 2)))"
      ],
      "execution_count": 8,
      "outputs": [
        {
          "output_type": "stream",
          "text": [
            "Clusters Summary\n",
            "\n",
            "\n",
            "label: 1\n",
            "n: 1052\n",
            "AVERAGE TOTAL TIME FOR CORRECT RESPONSES: 62.37\n",
            "\n",
            "label: 2\n",
            "n: 339\n",
            "AVERAGE TOTAL TIME FOR CORRECT RESPONSES: 209.16\n"
          ],
          "name": "stdout"
        }
      ]
    },
    {
      "metadata": {
        "id": "FUjpuWl4C4xY",
        "colab_type": "code",
        "colab": {}
      },
      "cell_type": "code",
      "source": [
        "question_df1.loc[question_df1['CORRECT_TOTAL_TIME_CLUSTER'] == 1, 'CORRECT_TOTAL_TIME_FLAG'] = 'LOW'\n",
        "question_df1.loc[question_df1['CORRECT_TOTAL_TIME_CLUSTER'] == 2, 'CORRECT_TOTAL_TIME_FLAG'] = 'HIGH'"
      ],
      "execution_count": 0,
      "outputs": []
    },
    {
      "metadata": {
        "id": "68NAhBhCNi4X",
        "colab_type": "code",
        "outputId": "06830f0b-7dd8-4b5c-e1f1-e7b0e89c8552",
        "colab": {
          "base_uri": "https://localhost:8080/",
          "height": 33
        }
      },
      "cell_type": "code",
      "source": [
        "X = question_df1[['TOTAL_TIME_CORRECT']].as_matrix()\n",
        "# generate the linkage matrix\n",
        "single_link = linkage(X, 'single') # using single link metric to evaluate 'distance' between clusters\n",
        "c, coph_dists = cophenet(single_link, pdist(X))\n",
        "c"
      ],
      "execution_count": 10,
      "outputs": [
        {
          "output_type": "execute_result",
          "data": {
            "text/plain": [
              "0.6730612473614093"
            ]
          },
          "metadata": {
            "tags": []
          },
          "execution_count": 10
        }
      ]
    },
    {
      "metadata": {
        "id": "lboV4LUtDT7Y",
        "colab_type": "text"
      },
      "cell_type": "markdown",
      "source": [
        "####**2. By mean TOTAL_TIME for wrong responses**"
      ]
    },
    {
      "metadata": {
        "id": "mKB29Yx7DZ_7",
        "colab_type": "code",
        "outputId": "bcf7ec93-d97e-4ab8-8575-57f8d374b97a",
        "colab": {
          "base_uri": "https://localhost:8080/",
          "height": 632
        }
      },
      "cell_type": "code",
      "source": [
        "wrong_df=input_df.loc[input_df['RESPONSE'] == 0]\n",
        "question_df2=wrong_df.groupby(['QUESTION_ID'])['TOTAL_TIME'].mean().reset_index()\n",
        "question_df2=question_df2.rename(columns={'TOTAL_TIME':'TOTAL_TIME_WRONG'})\n",
        "\n",
        "scaler = StandardScaler()\n",
        "temp_scaled = scaler.fit_transform(question_df2[['TOTAL_TIME_WRONG']])\n",
        "\n",
        "linked_array = ward(temp_scaled)\n",
        "\n",
        "fancy_dendrogram(\n",
        "    linked_array,\n",
        "    truncate_mode='lastp',\n",
        "    p=30,\n",
        "    leaf_rotation=90.,\n",
        "    leaf_font_size=12.,\n",
        "    show_contracted=True,\n",
        "    annotate_above=10,\n",
        "    max_d=23\n",
        ")\n",
        "\n",
        "plt.show()"
      ],
      "execution_count": 11,
      "outputs": [
        {
          "output_type": "display_data",
          "data": {
            "image/png": "[encoded data removed]",
            "text/plain": [
              "<matplotlib.figure.Figure at 0x7f94490e6438>"
            ]
          },
          "metadata": {
            "tags": []
          }
        }
      ]
    },
    {
      "metadata": {
        "id": "mahzl_gBDj7n",
        "colab_type": "code",
        "outputId": "68e041a5-0840-4df5-d74c-5698b8771de7",
        "colab": {
          "base_uri": "https://localhost:8080/",
          "height": 184
        }
      },
      "cell_type": "code",
      "source": [
        "max_d = 23\n",
        "\n",
        "clusters = fcluster(linked_array, max_d, criterion='distance')\n",
        "\n",
        "labels, counts = np.unique(clusters, return_counts=True)\n",
        "\n",
        "question_df2['WRONG_TOTAL_TIME_CLUSTER'] = clusters\n",
        "\n",
        "print('Clusters Summary\\n')\n",
        "for i in range(1,len(np.unique(clusters))+1):\n",
        "    print('\\nlabel: {}'.format(i))\n",
        "    print('n: {}'.format(counts[i-1]))\n",
        "    print('TOTAL TIME FOR WRONG RESPONSES: {}'.format(round(question_df2[question_df2['WRONG_TOTAL_TIME_CLUSTER'] == i].TOTAL_TIME_WRONG.mean(), 2)))"
      ],
      "execution_count": 12,
      "outputs": [
        {
          "output_type": "stream",
          "text": [
            "Clusters Summary\n",
            "\n",
            "\n",
            "label: 1\n",
            "n: 220\n",
            "TOTAL TIME FOR WRONG RESPONSES: 253.52\n",
            "\n",
            "label: 2\n",
            "n: 1032\n",
            "TOTAL TIME FOR WRONG RESPONSES: 79.89\n"
          ],
          "name": "stdout"
        }
      ]
    },
    {
      "metadata": {
        "id": "sd43rfOqFkEc",
        "colab_type": "code",
        "colab": {}
      },
      "cell_type": "code",
      "source": [
        "question_df2.loc[question_df2['WRONG_TOTAL_TIME_CLUSTER'] == 1, 'WRONG_TOTAL_TIME_FLAG'] = 'HIGH'\n",
        "question_df2.loc[question_df2['WRONG_TOTAL_TIME_CLUSTER'] == 2, 'WRONG_TOTAL_TIME_FLAG'] = 'LOW'"
      ],
      "execution_count": 0,
      "outputs": []
    },
    {
      "metadata": {
        "id": "0IX3Q1ADNXr-",
        "colab_type": "code",
        "outputId": "f0e7bc41-af67-4f3d-b15d-6c272b693601",
        "colab": {
          "base_uri": "https://localhost:8080/",
          "height": 33
        }
      },
      "cell_type": "code",
      "source": [
        "X = question_df2[['TOTAL_TIME_WRONG']].as_matrix()\n",
        "# generate the linkage matrix\n",
        "single_link = linkage(X, 'single') # using single link metric to evaluate 'distance' between clusters\n",
        "c, coph_dists = cophenet(single_link, pdist(X))\n",
        "c"
      ],
      "execution_count": 14,
      "outputs": [
        {
          "output_type": "execute_result",
          "data": {
            "text/plain": [
              "0.7279921329109198"
            ]
          },
          "metadata": {
            "tags": []
          },
          "execution_count": 14
        }
      ]
    },
    {
      "metadata": {
        "id": "8NWHNMJDS5Rz",
        "colab_type": "text"
      },
      "cell_type": "markdown",
      "source": [
        "####**3. By mean success rate (to gauge difficulty level)**"
      ]
    },
    {
      "metadata": {
        "id": "id2xYwnhS_N5",
        "colab_type": "code",
        "outputId": "556c23c3-8a3c-4049-95db-79e1c29359a6",
        "colab": {
          "base_uri": "https://localhost:8080/",
          "height": 638
        }
      },
      "cell_type": "code",
      "source": [
        "question_df3=input_df.groupby(['QUESTION_ID'])['RESPONSE'].mean().reset_index()\n",
        "question_df3=question_df3.rename(columns={'RESPONSE':'CORRECT_RATE'})\n",
        "\n",
        "scaler = StandardScaler()\n",
        "temp_scaled = scaler.fit_transform(question_df3[['CORRECT_RATE']])\n",
        "\n",
        "linked_array = ward(temp_scaled)\n",
        "\n",
        "fancy_dendrogram(\n",
        "    linked_array,\n",
        "    truncate_mode='lastp',\n",
        "    p=30,\n",
        "    leaf_rotation=90.,\n",
        "    leaf_font_size=12.,\n",
        "    show_contracted=True,\n",
        "    annotate_above=10,\n",
        "    max_d=19\n",
        ")\n",
        "\n",
        "plt.show()"
      ],
      "execution_count": 57,
      "outputs": [
        {
          "output_type": "display_data",
          "data": {
            "image/png": "[encoded data removed]",
            "text/plain": [
              "<matplotlib.figure.Figure at 0x7f94486c8668>"
            ]
          },
          "metadata": {
            "tags": []
          }
        }
      ]
    },
    {
      "metadata": {
        "id": "ZP4DChSAVZwc",
        "colab_type": "code",
        "outputId": "04bbe4a2-5d23-49b2-c53b-004fda08868b",
        "colab": {
          "base_uri": "https://localhost:8080/",
          "height": 251
        }
      },
      "cell_type": "code",
      "source": [
        "max_d = 19\n",
        "\n",
        "clusters = fcluster(linked_array, max_d, criterion='distance')\n",
        "\n",
        "labels, counts = np.unique(clusters, return_counts=True)\n",
        "\n",
        "question_df3['CORRECT_RATE_CLUSTER'] = clusters\n",
        "\n",
        "print('Clusters Summary\\n')\n",
        "for i in range(1,len(np.unique(clusters))+1):\n",
        "    print('\\nlabel: {}'.format(i))\n",
        "    print('n: {}'.format(counts[i-1]))\n",
        "    print('CORRECT RATE: {}'.format(round(question_df3[question_df3['CORRECT_RATE_CLUSTER'] == i].CORRECT_RATE.mean(), 2)))"
      ],
      "execution_count": 16,
      "outputs": [
        {
          "output_type": "stream",
          "text": [
            "Clusters Summary\n",
            "\n",
            "\n",
            "label: 1\n",
            "n: 811\n",
            "CORRECT RATE: 0.85\n",
            "\n",
            "label: 2\n",
            "n: 366\n",
            "CORRECT RATE: 0.44\n",
            "\n",
            "label: 3\n",
            "n: 404\n",
            "CORRECT RATE: 0.1\n"
          ],
          "name": "stdout"
        }
      ]
    },
    {
      "metadata": {
        "id": "dzHxPQgMVscA",
        "colab_type": "code",
        "colab": {}
      },
      "cell_type": "code",
      "source": [
        "question_df3.loc[question_df3['CORRECT_RATE_CLUSTER'] == 1, 'DIFFICULTY_FLAG'] = 'LOW'\n",
        "question_df3.loc[question_df3['CORRECT_RATE_CLUSTER'] == 2, 'DIFFICULTY_FLAG'] = 'MED'\n",
        "question_df3.loc[question_df3['CORRECT_RATE_CLUSTER'] == 3, 'DIFFICULTY_FLAG'] = 'HIGH'"
      ],
      "execution_count": 0,
      "outputs": []
    },
    {
      "metadata": {
        "id": "3QNknn7vNQUK",
        "colab_type": "code",
        "outputId": "aae2b955-f8b3-4cda-a94c-60e442f39a4c",
        "colab": {
          "base_uri": "https://localhost:8080/",
          "height": 33
        }
      },
      "cell_type": "code",
      "source": [
        "# Validation\n",
        "\n",
        "X = question_df3[['CORRECT_RATE']].as_matrix()\n",
        "# generate the linkage matrix\n",
        "single_link = linkage(X, 'single') # using single link metric to evaluate 'distance' between clusters\n",
        "c, coph_dists = cophenet(single_link, pdist(X))\n",
        "c"
      ],
      "execution_count": 18,
      "outputs": [
        {
          "output_type": "execute_result",
          "data": {
            "text/plain": [
              "0.49792749141154496"
            ]
          },
          "metadata": {
            "tags": []
          },
          "execution_count": 18
        }
      ]
    },
    {
      "metadata": {
        "id": "0wPYm7G6W1aM",
        "colab_type": "text"
      },
      "cell_type": "markdown",
      "source": [
        "####**4. By mean TOTAL_DELAY_1S for correct responses**"
      ]
    },
    {
      "metadata": {
        "id": "UFPYNcypDMTB",
        "colab_type": "code",
        "outputId": "11a8bfc4-a14f-43ab-d2dc-ed4a6f4e11c1",
        "colab": {
          "base_uri": "https://localhost:8080/",
          "height": 638
        }
      },
      "cell_type": "code",
      "source": [
        "question_df4=correct_df.groupby(['QUESTION_ID'])['TOTAL_DELAY_1S'].mean().reset_index()\n",
        "question_df4=question_df4.rename(columns={'TOTAL_DELAY_1S':'TOTAL_DELAY_1S_CORRECT'})\n",
        "\n",
        "scaler = StandardScaler()\n",
        "temp_scaled = scaler.fit_transform(question_df4[['TOTAL_DELAY_1S_CORRECT']])\n",
        "\n",
        "linked_array = ward(temp_scaled)\n",
        "\n",
        "fancy_dendrogram(\n",
        "    linked_array,\n",
        "    truncate_mode='lastp',\n",
        "    p=30,\n",
        "    leaf_rotation=90.,\n",
        "    leaf_font_size=12.,\n",
        "    show_contracted=True,\n",
        "    annotate_above=10,\n",
        "    max_d=20\n",
        ")\n",
        "\n",
        "plt.show()"
      ],
      "execution_count": 19,
      "outputs": [
        {
          "output_type": "display_data",
          "data": {
            "image/png": "[encoded data removed]",
            "text/plain": [
              "<matplotlib.figure.Figure at 0x7f944b96ddd8>"
            ]
          },
          "metadata": {
            "tags": []
          }
        }
      ]
    },
    {
      "metadata": {
        "id": "KjSHGQmDLcZn",
        "colab_type": "code",
        "outputId": "98ac8acc-f11d-452e-a35d-40f6f6cc4030",
        "colab": {
          "base_uri": "https://localhost:8080/",
          "height": 184
        }
      },
      "cell_type": "code",
      "source": [
        "max_d = 20\n",
        "\n",
        "clusters = fcluster(linked_array, max_d, criterion='distance')\n",
        "\n",
        "labels, counts = np.unique(clusters, return_counts=True)\n",
        "\n",
        "question_df4['CORRECT_DELAY_CLUSTER'] = clusters\n",
        "\n",
        "print('Clusters Summary\\n')\n",
        "for i in range(1,len(np.unique(clusters))+1):\n",
        "    print('\\nlabel: {}'.format(i))\n",
        "    print('n: {}'.format(counts[i-1]))\n",
        "    print('AVERAGE DELAY COUNT FOR CORRECT RESPONSES: {}'.format(round(question_df4[question_df4['CORRECT_DELAY_CLUSTER'] == i].TOTAL_DELAY_1S_CORRECT.mean(), 2)))"
      ],
      "execution_count": 20,
      "outputs": [
        {
          "output_type": "stream",
          "text": [
            "Clusters Summary\n",
            "\n",
            "\n",
            "label: 1\n",
            "n: 1129\n",
            "AVERAGE DELAY COUNT FOR CORRECT RESPONSES: 59.35\n",
            "\n",
            "label: 2\n",
            "n: 262\n",
            "AVERAGE DELAY COUNT FOR CORRECT RESPONSES: 183.2\n"
          ],
          "name": "stdout"
        }
      ]
    },
    {
      "metadata": {
        "id": "TiFZXieyMBmJ",
        "colab_type": "code",
        "colab": {}
      },
      "cell_type": "code",
      "source": [
        "question_df4.loc[question_df4['CORRECT_DELAY_CLUSTER'] == 1, 'CORRECT_DELAY_FLAG'] = 'LOW'\n",
        "question_df4.loc[question_df4['CORRECT_DELAY_CLUSTER'] == 2, 'CORRECT_DELAY_FLAG'] = 'HIGH'"
      ],
      "execution_count": 0,
      "outputs": []
    },
    {
      "metadata": {
        "id": "anD7117kNGuc",
        "colab_type": "code",
        "outputId": "eae66ab8-31ff-42b2-c826-7b2b94b8db78",
        "colab": {
          "base_uri": "https://localhost:8080/",
          "height": 33
        }
      },
      "cell_type": "code",
      "source": [
        "# Validation\n",
        "\n",
        "X = question_df4[['TOTAL_DELAY_1S_CORRECT']].as_matrix()\n",
        "# generate the linkage matrix\n",
        "single_link = linkage(X, 'single') # using single link metric to evaluate 'distance' between clusters\n",
        "c, coph_dists = cophenet(single_link, pdist(X))\n",
        "c"
      ],
      "execution_count": 22,
      "outputs": [
        {
          "output_type": "execute_result",
          "data": {
            "text/plain": [
              "0.7579108094264153"
            ]
          },
          "metadata": {
            "tags": []
          },
          "execution_count": 22
        }
      ]
    },
    {
      "metadata": {
        "id": "msne-A-rFweo",
        "colab_type": "text"
      },
      "cell_type": "markdown",
      "source": [
        "####**5. By mean TOTAL_DELAY_1S for wrong responses**"
      ]
    },
    {
      "metadata": {
        "id": "6vZKY_4hPg1T",
        "colab_type": "code",
        "outputId": "ab062c84-05cf-410a-ec5b-100986a56f7f",
        "colab": {
          "base_uri": "https://localhost:8080/",
          "height": 632
        }
      },
      "cell_type": "code",
      "source": [
        "question_df5=wrong_df.groupby(['QUESTION_ID'])['TOTAL_DELAY_1S'].mean().reset_index()\n",
        "question_df5=question_df5.rename(columns={'TOTAL_DELAY_1S':'TOTAL_DELAY_1S_WRONG'})\n",
        "\n",
        "scaler = StandardScaler()\n",
        "temp_scaled = scaler.fit_transform(question_df5[['TOTAL_DELAY_1S_WRONG']])\n",
        "\n",
        "linked_array = ward(temp_scaled)\n",
        "\n",
        "fancy_dendrogram(\n",
        "    linked_array,\n",
        "    truncate_mode='lastp',\n",
        "    p=30,\n",
        "    leaf_rotation=90.,\n",
        "    leaf_font_size=12.,\n",
        "    show_contracted=True,\n",
        "    annotate_above=10,\n",
        "    max_d=21\n",
        ")\n",
        "\n",
        "plt.show()"
      ],
      "execution_count": 23,
      "outputs": [
        {
          "output_type": "display_data",
          "data": {
            "image/png": "[encoded data removed]",
            "text/plain": [
              "<matplotlib.figure.Figure at 0x7f94488aa630>"
            ]
          },
          "metadata": {
            "tags": []
          }
        }
      ]
    },
    {
      "metadata": {
        "id": "gar8Tcu3QJd6",
        "colab_type": "code",
        "outputId": "4c1e381f-451f-4835-8615-373185b9353a",
        "colab": {
          "base_uri": "https://localhost:8080/",
          "height": 184
        }
      },
      "cell_type": "code",
      "source": [
        "max_d = 21\n",
        "\n",
        "clusters = fcluster(linked_array, max_d, criterion='distance')\n",
        "\n",
        "labels, counts = np.unique(clusters, return_counts=True)\n",
        "\n",
        "question_df5['WRONG_DELAY_CLUSTER'] = clusters\n",
        "\n",
        "print('Clusters Summary\\n')\n",
        "for i in range(1,len(np.unique(clusters))+1):\n",
        "    print('\\nlabel: {}'.format(i))\n",
        "    print('n: {}'.format(counts[i-1]))\n",
        "    print('AVERAGE DELAY COUNT FOR WRONG RESPONSES: {}'.format(round(question_df5[question_df5['WRONG_DELAY_CLUSTER'] == i].TOTAL_DELAY_1S_WRONG.mean(), 2)))"
      ],
      "execution_count": 24,
      "outputs": [
        {
          "output_type": "stream",
          "text": [
            "Clusters Summary\n",
            "\n",
            "\n",
            "label: 1\n",
            "n: 930\n",
            "AVERAGE DELAY COUNT FOR WRONG RESPONSES: 68.14\n",
            "\n",
            "label: 2\n",
            "n: 322\n",
            "AVERAGE DELAY COUNT FOR WRONG RESPONSES: 197.04\n"
          ],
          "name": "stdout"
        }
      ]
    },
    {
      "metadata": {
        "id": "ph_jUl98wvfM",
        "colab_type": "code",
        "colab": {}
      },
      "cell_type": "code",
      "source": [
        "question_df5.loc[question_df5['WRONG_DELAY_CLUSTER'] == 1, 'WRONG_DELAY_FLAG'] = 'LOW'\n",
        "question_df5.loc[question_df5['WRONG_DELAY_CLUSTER'] == 2, 'WRONG_DELAY_FLAG'] = 'HIGH'"
      ],
      "execution_count": 0,
      "outputs": []
    },
    {
      "metadata": {
        "id": "YS2Cm1_DM5_-",
        "colab_type": "code",
        "outputId": "9eb987ea-77f2-40a3-a92a-96c3eb781cfa",
        "colab": {
          "base_uri": "https://localhost:8080/",
          "height": 33
        }
      },
      "cell_type": "code",
      "source": [
        "# Validation\n",
        "\n",
        "X = question_df5[['TOTAL_DELAY_1S_WRONG']].as_matrix()\n",
        "# generate the linkage matrix\n",
        "single_link = linkage(X, 'single') # using single link metric to evaluate 'distance' between clusters\n",
        "c, coph_dists = cophenet(single_link, pdist(X))\n",
        "c"
      ],
      "execution_count": 26,
      "outputs": [
        {
          "output_type": "execute_result",
          "data": {
            "text/plain": [
              "0.6555195684860536"
            ]
          },
          "metadata": {
            "tags": []
          },
          "execution_count": 26
        }
      ]
    },
    {
      "metadata": {
        "id": "SklfzFFP7DKH",
        "colab_type": "text"
      },
      "cell_type": "markdown",
      "source": [
        "####**6. By average speed for correct responses**"
      ]
    },
    {
      "metadata": {
        "id": "O4jZZVFwCDhh",
        "colab_type": "code",
        "outputId": "dab7a088-541e-47fc-dd64-31c79230032c",
        "colab": {
          "base_uri": "https://localhost:8080/",
          "height": 638
        }
      },
      "cell_type": "code",
      "source": [
        "question_df6=correct_df.groupby(['QUESTION_ID'])['AVERAGE_SPEED'].mean().reset_index()\n",
        "question_df6=question_df6.rename(columns={'AVERAGE_SPEED':'AVERAGE_SPEED_CORRECT'})\n",
        "\n",
        "scaler = StandardScaler()\n",
        "temp_scaled = scaler.fit_transform(question_df6[['AVERAGE_SPEED_CORRECT']])\n",
        "\n",
        "linked_array = ward(temp_scaled)\n",
        "\n",
        "fancy_dendrogram(\n",
        "    linked_array,\n",
        "    truncate_mode='lastp',\n",
        "    p=30,\n",
        "    leaf_rotation=90.,\n",
        "    leaf_font_size=12.,\n",
        "    show_contracted=True,\n",
        "    annotate_above=10,\n",
        "    max_d=20\n",
        ")\n",
        "\n",
        "plt.show()"
      ],
      "execution_count": 27,
      "outputs": [
        {
          "output_type": "display_data",
          "data": {
            "image/png": "[encoded data removed]",
            "text/plain": [
              "<matplotlib.figure.Figure at 0x7f9448c5cef0>"
            ]
          },
          "metadata": {
            "tags": []
          }
        }
      ]
    },
    {
      "metadata": {
        "id": "9jykno5bLNwJ",
        "colab_type": "code",
        "outputId": "3fad34f3-1464-4a05-d91a-06b14a2a1b75",
        "colab": {
          "base_uri": "https://localhost:8080/",
          "height": 184
        }
      },
      "cell_type": "code",
      "source": [
        "max_d = 20\n",
        "\n",
        "clusters = fcluster(linked_array, max_d, criterion='distance')\n",
        "\n",
        "labels, counts = np.unique(clusters, return_counts=True)\n",
        "\n",
        "question_df6['CORRECT_SPEED_CLUSTER'] = clusters\n",
        "\n",
        "print('Clusters Summary\\n')\n",
        "for i in range(1,len(np.unique(clusters))+1):\n",
        "    print('\\nlabel: {}'.format(i))\n",
        "    print('n: {}'.format(counts[i-1]))\n",
        "    print('AVERAGE SPEED FOR CORRECT RESPONSES: {}'.format(round(question_df6[question_df6['CORRECT_SPEED_CLUSTER'] == i].AVERAGE_SPEED_CORRECT.mean(), 2)))"
      ],
      "execution_count": 28,
      "outputs": [
        {
          "output_type": "stream",
          "text": [
            "Clusters Summary\n",
            "\n",
            "\n",
            "label: 1\n",
            "n: 419\n",
            "AVERAGE SPEED FOR CORRECT RESPONSES: 1.36\n",
            "\n",
            "label: 2\n",
            "n: 972\n",
            "AVERAGE SPEED FOR CORRECT RESPONSES: 0.61\n"
          ],
          "name": "stdout"
        }
      ]
    },
    {
      "metadata": {
        "id": "oMsEiltKLyZn",
        "colab_type": "code",
        "colab": {}
      },
      "cell_type": "code",
      "source": [
        "question_df6.loc[question_df6['CORRECT_SPEED_CLUSTER'] == 1, 'CORRECT_SPEED_FLAG'] = 'HIGH'\n",
        "question_df6.loc[question_df6['CORRECT_SPEED_CLUSTER'] == 2, 'CORRECT_SPEED_FLAG'] = 'LOW'"
      ],
      "execution_count": 0,
      "outputs": []
    },
    {
      "metadata": {
        "id": "9yYMbwHDMQTw",
        "colab_type": "code",
        "outputId": "c9714c11-7ba0-4bcc-ae33-5a1b3dbfee8b",
        "colab": {
          "base_uri": "https://localhost:8080/",
          "height": 33
        }
      },
      "cell_type": "code",
      "source": [
        "# Validation\n",
        "\n",
        "X = question_df6[['AVERAGE_SPEED_CORRECT']].as_matrix()\n",
        "# generate the linkage matrix\n",
        "single_link = linkage(X, 'single') # using single link metric to evaluate 'distance' between clusters\n",
        "c, coph_dists = cophenet(single_link, pdist(X))\n",
        "c"
      ],
      "execution_count": 30,
      "outputs": [
        {
          "output_type": "execute_result",
          "data": {
            "text/plain": [
              "0.6903595033459059"
            ]
          },
          "metadata": {
            "tags": []
          },
          "execution_count": 30
        }
      ]
    },
    {
      "metadata": {
        "id": "CKaMT9Rnxq9v",
        "colab_type": "text"
      },
      "cell_type": "markdown",
      "source": [
        "####7. By average speed for wrong responses"
      ]
    },
    {
      "metadata": {
        "id": "y6osT-SgxzYK",
        "colab_type": "code",
        "outputId": "0f693702-22c9-4826-c630-92eca109e403",
        "colab": {
          "base_uri": "https://localhost:8080/",
          "height": 632
        }
      },
      "cell_type": "code",
      "source": [
        "question_df7=wrong_df.groupby(['QUESTION_ID'])['AVERAGE_SPEED'].mean().reset_index()\n",
        "question_df7=question_df7.rename(columns={'AVERAGE_SPEED':'AVERAGE_SPEED_WRONG'})\n",
        "\n",
        "scaler = StandardScaler()\n",
        "temp_scaled = scaler.fit_transform(question_df7[['AVERAGE_SPEED_WRONG']])\n",
        "\n",
        "linked_array = ward(temp_scaled)\n",
        "\n",
        "fancy_dendrogram(\n",
        "    linked_array,\n",
        "    truncate_mode='lastp',\n",
        "    p=30,\n",
        "    leaf_rotation=90.,\n",
        "    leaf_font_size=12.,\n",
        "    show_contracted=True,\n",
        "    annotate_above=10,\n",
        "    max_d=24\n",
        ")\n",
        "\n",
        "plt.show()"
      ],
      "execution_count": 31,
      "outputs": [
        {
          "output_type": "display_data",
          "data": {
            "image/png": "[encoded data removed]",
            "text/plain": [
              "<matplotlib.figure.Figure at 0x7f94490ff208>"
            ]
          },
          "metadata": {
            "tags": []
          }
        }
      ]
    },
    {
      "metadata": {
        "id": "aZrxfRRHymhx",
        "colab_type": "code",
        "outputId": "c30b2e4c-a22d-47cd-8c7c-7167c2a4730a",
        "colab": {
          "base_uri": "https://localhost:8080/",
          "height": 184
        }
      },
      "cell_type": "code",
      "source": [
        "max_d = 24\n",
        "\n",
        "clusters = fcluster(linked_array, max_d, criterion='distance')\n",
        "\n",
        "labels, counts = np.unique(clusters, return_counts=True)\n",
        "\n",
        "question_df7['WRONG_SPEED_CLUSTER'] = clusters\n",
        "\n",
        "print('Clusters Summary\\n')\n",
        "for i in range(1,len(np.unique(clusters))+1):\n",
        "    print('\\nlabel: {}'.format(i))\n",
        "    print('n: {}'.format(counts[i-1]))\n",
        "    print('AVERAGE SPEED FOR WRONG RESPONSES: {}'.format(round(question_df7[question_df7['WRONG_SPEED_CLUSTER'] == i].AVERAGE_SPEED_WRONG.mean(), 2)))"
      ],
      "execution_count": 32,
      "outputs": [
        {
          "output_type": "stream",
          "text": [
            "Clusters Summary\n",
            "\n",
            "\n",
            "label: 1\n",
            "n: 174\n",
            "AVERAGE SPEED FOR WRONG RESPONSES: 1.36\n",
            "\n",
            "label: 2\n",
            "n: 1078\n",
            "AVERAGE SPEED FOR WRONG RESPONSES: 0.49\n"
          ],
          "name": "stdout"
        }
      ]
    },
    {
      "metadata": {
        "id": "m4yeFTMK0Ac-",
        "colab_type": "code",
        "colab": {}
      },
      "cell_type": "code",
      "source": [
        "question_df7.loc[question_df7['WRONG_SPEED_CLUSTER'] == 1, 'WRONG_SPEED_FLAG'] = 'HIGH'\n",
        "question_df7.loc[question_df7['WRONG_SPEED_CLUSTER'] == 2, 'WRONG_SPEED_FLAG'] = 'LOW'"
      ],
      "execution_count": 0,
      "outputs": []
    },
    {
      "metadata": {
        "id": "tgMFHAdvpKxK",
        "colab_type": "text"
      },
      "cell_type": "markdown",
      "source": [
        "####8. By average stroke count for correct responses"
      ]
    },
    {
      "metadata": {
        "id": "G21JtEP8pV5I",
        "colab_type": "code",
        "colab": {
          "base_uri": "https://localhost:8080/",
          "height": 638
        },
        "outputId": "5ea885a1-f852-47a7-8139-a6de2c06c2d5"
      },
      "cell_type": "code",
      "source": [
        "question_df8=correct_df.groupby(['QUESTION_ID'])['STROKE_COUNT'].mean().reset_index()\n",
        "question_df8=question_df8.rename(columns={'STROKE_COUNT':'STROKE_COUNT_CORRECT'})\n",
        "\n",
        "scaler = StandardScaler()\n",
        "temp_scaled = scaler.fit_transform(question_df8[['STROKE_COUNT_CORRECT']])\n",
        "\n",
        "linked_array = ward(temp_scaled)\n",
        "\n",
        "fancy_dendrogram(\n",
        "    linked_array,\n",
        "    truncate_mode='lastp',\n",
        "    p=30,\n",
        "    leaf_rotation=90.,\n",
        "    leaf_font_size=12.,\n",
        "    show_contracted=True,\n",
        "    annotate_above=10,\n",
        "    max_d=20\n",
        ")\n",
        "\n",
        "plt.show()"
      ],
      "execution_count": 34,
      "outputs": [
        {
          "output_type": "display_data",
          "data": {
            "image/png": "[encoded data removed]",
            "text/plain": [
              "<matplotlib.figure.Figure at 0x7f9448c4b9e8>"
            ]
          },
          "metadata": {
            "tags": []
          }
        }
      ]
    },
    {
      "metadata": {
        "id": "SpUpr8e3qMAv",
        "colab_type": "code",
        "colab": {
          "base_uri": "https://localhost:8080/",
          "height": 184
        },
        "outputId": "e68afd04-2404-49ff-f57d-e1af193c433d"
      },
      "cell_type": "code",
      "source": [
        "max_d = 20\n",
        "\n",
        "clusters = fcluster(linked_array, max_d, criterion='distance')\n",
        "\n",
        "labels, counts = np.unique(clusters, return_counts=True)\n",
        "\n",
        "question_df8['STROKE_COUNT_CORRECT_CLUSTER'] = clusters\n",
        "\n",
        "print('Clusters Summary\\n')\n",
        "for i in range(1,len(np.unique(clusters))+1):\n",
        "    print('\\nlabel: {}'.format(i))\n",
        "    print('n: {}'.format(counts[i-1]))\n",
        "    print('STROKE COUNT FOR CORRECT RESPONSES: {}'.format(round(question_df8[question_df8['STROKE_COUNT_CORRECT_CLUSTER'] == i].STROKE_COUNT_CORRECT.mean(), 2)))"
      ],
      "execution_count": 35,
      "outputs": [
        {
          "output_type": "stream",
          "text": [
            "Clusters Summary\n",
            "\n",
            "\n",
            "label: 1\n",
            "n: 1066\n",
            "STROKE COUNT FOR CORRECT RESPONSES: 45.95\n",
            "\n",
            "label: 2\n",
            "n: 325\n",
            "STROKE COUNT FOR CORRECT RESPONSES: 166.33\n"
          ],
          "name": "stdout"
        }
      ]
    },
    {
      "metadata": {
        "id": "uhkBlAdYqvbu",
        "colab_type": "code",
        "colab": {}
      },
      "cell_type": "code",
      "source": [
        "question_df8.loc[question_df8['STROKE_COUNT_CORRECT_CLUSTER'] == 1, 'STROKE_COUNT_CORRECT_FLAG'] = 'LOW'\n",
        "question_df8.loc[question_df8['STROKE_COUNT_CORRECT_CLUSTER'] == 2, 'STROKE_COUNT_CORRECT_FLAG'] = 'HIGH'"
      ],
      "execution_count": 0,
      "outputs": []
    },
    {
      "metadata": {
        "id": "3kuCJ1LgrEBU",
        "colab_type": "text"
      },
      "cell_type": "markdown",
      "source": [
        "####9. By average stroke count for wrong responses"
      ]
    },
    {
      "metadata": {
        "id": "FD6cjRIRrIlL",
        "colab_type": "code",
        "colab": {
          "base_uri": "https://localhost:8080/",
          "height": 638
        },
        "outputId": "20a27173-055a-419c-fd04-9936aa73e5f3"
      },
      "cell_type": "code",
      "source": [
        "question_df9=wrong_df.groupby(['QUESTION_ID'])['STROKE_COUNT'].mean().reset_index()\n",
        "question_df9=question_df9.rename(columns={'STROKE_COUNT':'STROKE_COUNT_WRONG'})\n",
        "\n",
        "scaler = StandardScaler()\n",
        "temp_scaled = scaler.fit_transform(question_df9[['STROKE_COUNT_WRONG']])\n",
        "\n",
        "linked_array = ward(temp_scaled)\n",
        "\n",
        "fancy_dendrogram(\n",
        "    linked_array,\n",
        "    truncate_mode='lastp',\n",
        "    p=30,\n",
        "    leaf_rotation=90.,\n",
        "    leaf_font_size=12.,\n",
        "    show_contracted=True,\n",
        "    annotate_above=10,\n",
        "    max_d=27\n",
        ")\n",
        "\n",
        "plt.show()"
      ],
      "execution_count": 37,
      "outputs": [
        {
          "output_type": "display_data",
          "data": {
            "image/png": "[encoded data removed]",
            "text/plain": [
              "<matplotlib.figure.Figure at 0x7f9448c6d9b0>"
            ]
          },
          "metadata": {
            "tags": []
          }
        }
      ]
    },
    {
      "metadata": {
        "id": "o1IweVk1rjOe",
        "colab_type": "code",
        "colab": {
          "base_uri": "https://localhost:8080/",
          "height": 184
        },
        "outputId": "74ee2395-eb95-4460-f26d-484d1c96c99c"
      },
      "cell_type": "code",
      "source": [
        "max_d = 27\n",
        "\n",
        "clusters = fcluster(linked_array, max_d, criterion='distance')\n",
        "\n",
        "labels, counts = np.unique(clusters, return_counts=True)\n",
        "\n",
        "question_df9['STROKE_COUNT_WRONG_CLUSTER'] = clusters\n",
        "\n",
        "print('Clusters Summary\\n')\n",
        "for i in range(1,len(np.unique(clusters))+1):\n",
        "    print('\\nlabel: {}'.format(i))\n",
        "    print('n: {}'.format(counts[i-1]))\n",
        "    print('STROKE COUNT FOR WRONG RESPONSES: {}'.format(round(question_df9[question_df9['STROKE_COUNT_WRONG_CLUSTER'] == i].STROKE_COUNT_WRONG.mean(), 2)))"
      ],
      "execution_count": 38,
      "outputs": [
        {
          "output_type": "stream",
          "text": [
            "Clusters Summary\n",
            "\n",
            "\n",
            "label: 1\n",
            "n: 92\n",
            "STROKE COUNT FOR WRONG RESPONSES: 204.01\n",
            "\n",
            "label: 2\n",
            "n: 1160\n",
            "STROKE COUNT FOR WRONG RESPONSES: 49.19\n"
          ],
          "name": "stdout"
        }
      ]
    },
    {
      "metadata": {
        "id": "YQsZs3ctsCI_",
        "colab_type": "code",
        "colab": {}
      },
      "cell_type": "code",
      "source": [
        "question_df9.loc[question_df9['STROKE_COUNT_WRONG_CLUSTER'] == 1, 'STROKE_COUNT_WRONG_FLAG'] = 'HIGH'\n",
        "question_df9.loc[question_df9['STROKE_COUNT_WRONG_CLUSTER'] == 2, 'STROKE_COUNT_WRONG_FLAG'] = 'LOW'"
      ],
      "execution_count": 0,
      "outputs": []
    },
    {
      "metadata": {
        "id": "w-fryok4z3J0",
        "colab_type": "text"
      },
      "cell_type": "markdown",
      "source": [
        "####10. By average ink length for correct answers"
      ]
    },
    {
      "metadata": {
        "id": "Lmsnmk2H0zxY",
        "colab_type": "code",
        "colab": {
          "base_uri": "https://localhost:8080/",
          "height": 638
        },
        "outputId": "22674bbc-661c-42d9-be2b-f39a7d0fffe5"
      },
      "cell_type": "code",
      "source": [
        "question_df10=correct_df.groupby(['QUESTION_ID'])['TOTAL_INK_LENGTH'].mean().reset_index()\n",
        "question_df10=question_df10.rename(columns={'TOTAL_INK_LENGTH':'TOTAL_INK_LENGTH_CORRECT'})\n",
        "\n",
        "scaler = StandardScaler()\n",
        "temp_scaled = scaler.fit_transform(question_df10[['TOTAL_INK_LENGTH_CORRECT']])\n",
        "\n",
        "linked_array = ward(temp_scaled)\n",
        "\n",
        "fancy_dendrogram(\n",
        "    linked_array,\n",
        "    truncate_mode='lastp',\n",
        "    p=30,\n",
        "    leaf_rotation=90.,\n",
        "    leaf_font_size=12.,\n",
        "    show_contracted=True,\n",
        "    annotate_above=10,\n",
        "    max_d=27\n",
        ")\n",
        "\n",
        "plt.show()"
      ],
      "execution_count": 40,
      "outputs": [
        {
          "output_type": "display_data",
          "data": {
            "image/png": "[encoded data removed]",
            "text/plain": [
              "<matplotlib.figure.Figure at 0x7f944c1107f0>"
            ]
          },
          "metadata": {
            "tags": []
          }
        }
      ]
    },
    {
      "metadata": {
        "id": "bwGLtMJ41T92",
        "colab_type": "code",
        "colab": {
          "base_uri": "https://localhost:8080/",
          "height": 184
        },
        "outputId": "0e486394-4216-49af-cae7-7636cac384ac"
      },
      "cell_type": "code",
      "source": [
        "max_d = 27\n",
        "\n",
        "clusters = fcluster(linked_array, max_d, criterion='distance')\n",
        "\n",
        "labels, counts = np.unique(clusters, return_counts=True)\n",
        "\n",
        "question_df10['TOTAL_INK_LENGTH_CORRECT_CLUSTER'] = clusters\n",
        "\n",
        "print('Clusters Summary\\n')\n",
        "for i in range(1,len(np.unique(clusters))+1):\n",
        "    print('\\nlabel: {}'.format(i))\n",
        "    print('n: {}'.format(counts[i-1]))\n",
        "    print('INK LENGTH FOR CORRECT RESPONSES: {}'.format(round(question_df10[question_df10['TOTAL_INK_LENGTH_CORRECT_CLUSTER'] == i].TOTAL_INK_LENGTH_CORRECT.mean(), 2)))"
      ],
      "execution_count": 41,
      "outputs": [
        {
          "output_type": "stream",
          "text": [
            "Clusters Summary\n",
            "\n",
            "\n",
            "label: 1\n",
            "n: 284\n",
            "INK LENGTH FOR CORRECT RESPONSES: 140.1\n",
            "\n",
            "label: 2\n",
            "n: 1107\n",
            "INK LENGTH FOR CORRECT RESPONSES: 42.1\n"
          ],
          "name": "stdout"
        }
      ]
    },
    {
      "metadata": {
        "id": "Zi_XZbuh1obp",
        "colab_type": "code",
        "colab": {}
      },
      "cell_type": "code",
      "source": [
        "question_df10.loc[question_df10['TOTAL_INK_LENGTH_CORRECT_CLUSTER'] == 1, 'TOTAL_INK_LENGTH_CORRECT_FLAG'] = 'HIGH'\n",
        "question_df10.loc[question_df10['TOTAL_INK_LENGTH_CORRECT_CLUSTER'] == 2, 'TOTAL_INK_LENGTH_CORRECT_FLAG'] = 'LOW'"
      ],
      "execution_count": 0,
      "outputs": []
    },
    {
      "metadata": {
        "id": "btvDLgMN11Im",
        "colab_type": "text"
      },
      "cell_type": "markdown",
      "source": [
        "####11. By average ink length for wrong responses"
      ]
    },
    {
      "metadata": {
        "id": "C7xyzSVt19ZC",
        "colab_type": "code",
        "colab": {
          "base_uri": "https://localhost:8080/",
          "height": 638
        },
        "outputId": "27b77479-8555-45a0-d40a-731b8efb9bc5"
      },
      "cell_type": "code",
      "source": [
        "question_df11=wrong_df.groupby(['QUESTION_ID'])['TOTAL_INK_LENGTH'].mean().reset_index()\n",
        "question_df11=question_df11.rename(columns={'TOTAL_INK_LENGTH':'TOTAL_INK_LENGTH_WRONG'})\n",
        "\n",
        "scaler = StandardScaler()\n",
        "temp_scaled = scaler.fit_transform(question_df11[['TOTAL_INK_LENGTH_WRONG']])\n",
        "\n",
        "linked_array = ward(temp_scaled)\n",
        "\n",
        "fancy_dendrogram(\n",
        "    linked_array,\n",
        "    truncate_mode='lastp',\n",
        "    p=30,\n",
        "    leaf_rotation=90.,\n",
        "    leaf_font_size=12.,\n",
        "    show_contracted=True,\n",
        "    annotate_above=10,\n",
        "    max_d=27\n",
        ")\n",
        "\n",
        "plt.show()"
      ],
      "execution_count": 43,
      "outputs": [
        {
          "output_type": "display_data",
          "data": {
            "image/png": "[encoded data removed]",
            "text/plain": [
              "<matplotlib.figure.Figure at 0x7f9448912668>"
            ]
          },
          "metadata": {
            "tags": []
          }
        }
      ]
    },
    {
      "metadata": {
        "id": "2Mg020-42SLW",
        "colab_type": "code",
        "colab": {
          "base_uri": "https://localhost:8080/",
          "height": 184
        },
        "outputId": "7918fe68-bdfc-424a-da24-bdc9ca252f05"
      },
      "cell_type": "code",
      "source": [
        "max_d = 27\n",
        "\n",
        "clusters = fcluster(linked_array, max_d, criterion='distance')\n",
        "\n",
        "labels, counts = np.unique(clusters, return_counts=True)\n",
        "\n",
        "question_df11['TOTAL_INK_LENGTH_WRONG_CLUSTER'] = clusters\n",
        "\n",
        "print('Clusters Summary\\n')\n",
        "for i in range(1,len(np.unique(clusters))+1):\n",
        "    print('\\nlabel: {}'.format(i))\n",
        "    print('n: {}'.format(counts[i-1]))\n",
        "    print('INK LENGTH FOR WRONG RESPONSES: {}'.format(round(question_df11[question_df11['TOTAL_INK_LENGTH_WRONG_CLUSTER'] == i].TOTAL_INK_LENGTH_WRONG.mean(), 2)))"
      ],
      "execution_count": 44,
      "outputs": [
        {
          "output_type": "stream",
          "text": [
            "Clusters Summary\n",
            "\n",
            "\n",
            "label: 1\n",
            "n: 854\n",
            "INK LENGTH FOR WRONG RESPONSES: 28.57\n",
            "\n",
            "label: 2\n",
            "n: 398\n",
            "INK LENGTH FOR WRONG RESPONSES: 108.45\n"
          ],
          "name": "stdout"
        }
      ]
    },
    {
      "metadata": {
        "id": "8wUTac8d2iQa",
        "colab_type": "code",
        "colab": {}
      },
      "cell_type": "code",
      "source": [
        "question_df11.loc[question_df11['TOTAL_INK_LENGTH_WRONG_CLUSTER'] == 1, 'TOTAL_INK_LENGTH_WRONG_FLAG'] = 'LOW'\n",
        "question_df11.loc[question_df11['TOTAL_INK_LENGTH_WRONG_CLUSTER'] == 2, 'TOTAL_INK_LENGTH_WRONG_FLAG'] = 'HIGH'"
      ],
      "execution_count": 0,
      "outputs": []
    },
    {
      "metadata": {
        "id": "JoGxvgjpRnxg",
        "colab_type": "text"
      },
      "cell_type": "markdown",
      "source": [
        "### Merging all the flags into one table"
      ]
    },
    {
      "metadata": {
        "id": "A3wask21d0S_",
        "colab_type": "code",
        "outputId": "1d675f5c-cb1d-4407-842f-3f632c14c8cf",
        "colab": {
          "base_uri": "https://localhost:8080/",
          "height": 245
        }
      },
      "cell_type": "code",
      "source": [
        "question_df_list = [question_df1,question_df2,question_df3,question_df4,question_df5,question_df6,question_df7]\n",
        "question_df_all = reduce(lambda left,right: pd.merge(left,right,on=['QUESTION_ID']), question_df_list)\n",
        "question_df_all.head()"
      ],
      "execution_count": 46,
      "outputs": [
        {
          "output_type": "execute_result",
          "data": {
            "text/html": [
              "<div>\n",
              "<style scoped>\n",
              "    .dataframe tbody tr th:only-of-type {\n",
              "        vertical-align: middle;\n",
              "    }\n",
              "\n",
              "    .dataframe tbody tr th {\n",
              "        vertical-align: top;\n",
              "    }\n",
              "\n",
              "    .dataframe thead th {\n",
              "        text-align: right;\n",
              "    }\n",
              "</style>\n",
              "<table border=\"1\" class=\"dataframe\">\n",
              "  <thead>\n",
              "    <tr style=\"text-align: right;\">\n",
              "      <th></th>\n",
              "      <th>QUESTION_ID</th>\n",
              "      <th>TOTAL_TIME_CORRECT</th>\n",
              "      <th>CORRECT_TOTAL_TIME_CLUSTER</th>\n",
              "      <th>CORRECT_TOTAL_TIME_FLAG</th>\n",
              "      <th>TOTAL_TIME_WRONG</th>\n",
              "      <th>WRONG_TOTAL_TIME_CLUSTER</th>\n",
              "      <th>WRONG_TOTAL_TIME_FLAG</th>\n",
              "      <th>CORRECT_RATE</th>\n",
              "      <th>CORRECT_RATE_CLUSTER</th>\n",
              "      <th>DIFFICULTY_FLAG</th>\n",
              "      <th>...</th>\n",
              "      <th>CORRECT_DELAY_FLAG</th>\n",
              "      <th>TOTAL_DELAY_1S_WRONG</th>\n",
              "      <th>WRONG_DELAY_CLUSTER</th>\n",
              "      <th>WRONG_DELAY_FLAG</th>\n",
              "      <th>AVERAGE_SPEED_CORRECT</th>\n",
              "      <th>CORRECT_SPEED_CLUSTER</th>\n",
              "      <th>CORRECT_SPEED_FLAG</th>\n",
              "      <th>AVERAGE_SPEED_WRONG</th>\n",
              "      <th>WRONG_SPEED_CLUSTER</th>\n",
              "      <th>WRONG_SPEED_FLAG</th>\n",
              "    </tr>\n",
              "  </thead>\n",
              "  <tbody>\n",
              "    <tr>\n",
              "      <th>0</th>\n",
              "      <td>10007</td>\n",
              "      <td>169.562500</td>\n",
              "      <td>2</td>\n",
              "      <td>HIGH</td>\n",
              "      <td>273.090909</td>\n",
              "      <td>1</td>\n",
              "      <td>HIGH</td>\n",
              "      <td>0.592593</td>\n",
              "      <td>1</td>\n",
              "      <td>LOW</td>\n",
              "      <td>...</td>\n",
              "      <td>HIGH</td>\n",
              "      <td>216.545455</td>\n",
              "      <td>2</td>\n",
              "      <td>HIGH</td>\n",
              "      <td>0.544375</td>\n",
              "      <td>2</td>\n",
              "      <td>LOW</td>\n",
              "      <td>0.246364</td>\n",
              "      <td>2</td>\n",
              "      <td>LOW</td>\n",
              "    </tr>\n",
              "    <tr>\n",
              "      <th>1</th>\n",
              "      <td>10010</td>\n",
              "      <td>95.833333</td>\n",
              "      <td>1</td>\n",
              "      <td>LOW</td>\n",
              "      <td>178.000000</td>\n",
              "      <td>2</td>\n",
              "      <td>LOW</td>\n",
              "      <td>0.666667</td>\n",
              "      <td>1</td>\n",
              "      <td>LOW</td>\n",
              "      <td>...</td>\n",
              "      <td>LOW</td>\n",
              "      <td>167.000000</td>\n",
              "      <td>2</td>\n",
              "      <td>HIGH</td>\n",
              "      <td>0.406667</td>\n",
              "      <td>2</td>\n",
              "      <td>LOW</td>\n",
              "      <td>0.200000</td>\n",
              "      <td>2</td>\n",
              "      <td>LOW</td>\n",
              "    </tr>\n",
              "    <tr>\n",
              "      <th>2</th>\n",
              "      <td>10014</td>\n",
              "      <td>88.047619</td>\n",
              "      <td>1</td>\n",
              "      <td>LOW</td>\n",
              "      <td>137.125000</td>\n",
              "      <td>2</td>\n",
              "      <td>LOW</td>\n",
              "      <td>0.724138</td>\n",
              "      <td>1</td>\n",
              "      <td>LOW</td>\n",
              "      <td>...</td>\n",
              "      <td>LOW</td>\n",
              "      <td>130.500000</td>\n",
              "      <td>1</td>\n",
              "      <td>LOW</td>\n",
              "      <td>0.661905</td>\n",
              "      <td>2</td>\n",
              "      <td>LOW</td>\n",
              "      <td>0.577500</td>\n",
              "      <td>2</td>\n",
              "      <td>LOW</td>\n",
              "    </tr>\n",
              "    <tr>\n",
              "      <th>3</th>\n",
              "      <td>10015</td>\n",
              "      <td>151.500000</td>\n",
              "      <td>2</td>\n",
              "      <td>HIGH</td>\n",
              "      <td>79.000000</td>\n",
              "      <td>2</td>\n",
              "      <td>LOW</td>\n",
              "      <td>0.222222</td>\n",
              "      <td>3</td>\n",
              "      <td>HIGH</td>\n",
              "      <td>...</td>\n",
              "      <td>LOW</td>\n",
              "      <td>59.000000</td>\n",
              "      <td>1</td>\n",
              "      <td>LOW</td>\n",
              "      <td>0.820000</td>\n",
              "      <td>2</td>\n",
              "      <td>LOW</td>\n",
              "      <td>0.405714</td>\n",
              "      <td>2</td>\n",
              "      <td>LOW</td>\n",
              "    </tr>\n",
              "    <tr>\n",
              "      <th>4</th>\n",
              "      <td>10016</td>\n",
              "      <td>71.200000</td>\n",
              "      <td>1</td>\n",
              "      <td>LOW</td>\n",
              "      <td>57.000000</td>\n",
              "      <td>2</td>\n",
              "      <td>LOW</td>\n",
              "      <td>0.555556</td>\n",
              "      <td>2</td>\n",
              "      <td>MED</td>\n",
              "      <td>...</td>\n",
              "      <td>LOW</td>\n",
              "      <td>127.250000</td>\n",
              "      <td>1</td>\n",
              "      <td>LOW</td>\n",
              "      <td>0.688000</td>\n",
              "      <td>2</td>\n",
              "      <td>LOW</td>\n",
              "      <td>0.955000</td>\n",
              "      <td>2</td>\n",
              "      <td>LOW</td>\n",
              "    </tr>\n",
              "  </tbody>\n",
              "</table>\n",
              "<p>5 rows × 22 columns</p>\n",
              "</div>"
            ],
            "text/plain": [
              "  QUESTION_ID  TOTAL_TIME_CORRECT  CORRECT_TOTAL_TIME_CLUSTER  \\\n",
              "0       10007          169.562500                           2   \n",
              "1       10010           95.833333                           1   \n",
              "2       10014           88.047619                           1   \n",
              "3       10015          151.500000                           2   \n",
              "4       10016           71.200000                           1   \n",
              "\n",
              "  CORRECT_TOTAL_TIME_FLAG  TOTAL_TIME_WRONG  WRONG_TOTAL_TIME_CLUSTER  \\\n",
              "0                    HIGH        273.090909                         1   \n",
              "1                     LOW        178.000000                         2   \n",
              "2                     LOW        137.125000                         2   \n",
              "3                    HIGH         79.000000                         2   \n",
              "4                     LOW         57.000000                         2   \n",
              "\n",
              "  WRONG_TOTAL_TIME_FLAG  CORRECT_RATE  CORRECT_RATE_CLUSTER DIFFICULTY_FLAG  \\\n",
              "0                  HIGH      0.592593                     1             LOW   \n",
              "1                   LOW      0.666667                     1             LOW   \n",
              "2                   LOW      0.724138                     1             LOW   \n",
              "3                   LOW      0.222222                     3            HIGH   \n",
              "4                   LOW      0.555556                     2             MED   \n",
              "\n",
              "         ...         CORRECT_DELAY_FLAG  TOTAL_DELAY_1S_WRONG  \\\n",
              "0        ...                       HIGH            216.545455   \n",
              "1        ...                        LOW            167.000000   \n",
              "2        ...                        LOW            130.500000   \n",
              "3        ...                        LOW             59.000000   \n",
              "4        ...                        LOW            127.250000   \n",
              "\n",
              "  WRONG_DELAY_CLUSTER  WRONG_DELAY_FLAG  AVERAGE_SPEED_CORRECT  \\\n",
              "0                   2              HIGH               0.544375   \n",
              "1                   2              HIGH               0.406667   \n",
              "2                   1               LOW               0.661905   \n",
              "3                   1               LOW               0.820000   \n",
              "4                   1               LOW               0.688000   \n",
              "\n",
              "  CORRECT_SPEED_CLUSTER  CORRECT_SPEED_FLAG  AVERAGE_SPEED_WRONG  \\\n",
              "0                     2                 LOW             0.246364   \n",
              "1                     2                 LOW             0.200000   \n",
              "2                     2                 LOW             0.577500   \n",
              "3                     2                 LOW             0.405714   \n",
              "4                     2                 LOW             0.955000   \n",
              "\n",
              "  WRONG_SPEED_CLUSTER  WRONG_SPEED_FLAG  \n",
              "0                   2               LOW  \n",
              "1                   2               LOW  \n",
              "2                   2               LOW  \n",
              "3                   2               LOW  \n",
              "4                   2               LOW  \n",
              "\n",
              "[5 rows x 22 columns]"
            ]
          },
          "metadata": {
            "tags": []
          },
          "execution_count": 46
        }
      ]
    },
    {
      "metadata": {
        "id": "V08tBy2GRkyD",
        "colab_type": "code",
        "colab": {}
      },
      "cell_type": "code",
      "source": [
        "#input_df.to_csv('/content/drive/My Drive/cai_data/question_clusters.csv',index = True)"
      ],
      "execution_count": 0,
      "outputs": []
    },
    {
      "metadata": {
        "id": "HGz4ruUeVWq3",
        "colab_type": "code",
        "colab": {
          "base_uri": "https://localhost:8080/",
          "height": 281
        },
        "outputId": "7f4a54ad-4c03-4e74-d3c2-a2e9f2f9e3ef"
      },
      "cell_type": "code",
      "source": [
        "test=input_df.groupby(['QUESTION_ID'])['STUDENT_ID'].agg('nunique').reset_index()\n",
        "test.sort_values('STUDENT_ID', ascending=False)\n",
        "q_dist=sns.distplot(test['STUDENT_ID']);\n",
        "q_dist.set_xlim(0,40)\n",
        "q_dist.set_xlabel('')"
      ],
      "execution_count": 48,
      "outputs": [
        {
          "output_type": "execute_result",
          "data": {
            "text/plain": [
              "Text(0.5,0,'')"
            ]
          },
          "metadata": {
            "tags": []
          },
          "execution_count": 48
        },
        {
          "output_type": "display_data",
          "data": {
            "image/png": "[encoded data removed]",
            "text/plain": [
              "<matplotlib.figure.Figure at 0x7f94486c2470>"
            ]
          },
          "metadata": {
            "tags": []
          }
        }
      ]
    },
    {
      "metadata": {
        "id": "WSlZ_FIP0pdH",
        "colab_type": "code",
        "outputId": "925f4046-81f8-4ca4-f43a-4c9cd46160f5",
        "colab": {
          "base_uri": "https://localhost:8080/",
          "height": 606
        }
      },
      "cell_type": "code",
      "source": [
        "f, axes = plt.subplots(nrows=2,ncols=4,figsize=(20,10))\n",
        "\n",
        "ax1 = sns.boxplot(x=\"CORRECT_TOTAL_TIME_FLAG\", y=\"TOTAL_TIME_CORRECT\", data=question_df_all, ax=axes[0,0], palette=\"pastel\")\n",
        "ax1.set_ylim(0,350)\n",
        "ax1.set_xlabel('')\n",
        "ax1.set_title('CORRECT_TOTAL_TIME_FLAG')\n",
        "ax1.spines['top'].set_visible(False)\n",
        "ax1.spines['left'].set_visible(False)\n",
        "ax1.spines['right'].set_visible(False)\n",
        "ax1.spines['bottom'].set_visible(False)\n",
        "\n",
        "ax2 = sns.boxplot(x=\"WRONG_TOTAL_TIME_FLAG\", y=\"TOTAL_TIME_WRONG\", data=question_df_all, ax=axes[0,1], palette=\"pastel\")\n",
        "ax2.set_ylim(0,350)\n",
        "ax2.set_xlabel('')\n",
        "ax2.set_title('WRONG_TOTAL_TIME_FLAG')\n",
        "ax2.spines['top'].set_visible(False)\n",
        "ax2.spines['left'].set_visible(False)\n",
        "ax2.spines['right'].set_visible(False)\n",
        "ax2.spines['bottom'].set_visible(False)\n",
        "\n",
        "ax3 = sns.boxplot(x=\"DIFFICULTY_FLAG\", y=\"CORRECT_RATE\", data=question_df_all, ax=axes[0,2], palette=\"pastel\")\n",
        "ax3.set_ylim(0,1)\n",
        "ax3.set_xlabel('')\n",
        "ax3.set_title('DIFFICULTY_FLAG')\n",
        "ax3.spines['top'].set_visible(False)\n",
        "ax3.spines['left'].set_visible(False)\n",
        "ax3.spines['right'].set_visible(False)\n",
        "ax3.spines['bottom'].set_visible(False)\n",
        "\n",
        "ax4 = sns.boxplot(x=\"CORRECT_DELAY_FLAG\", y=\"TOTAL_DELAY_1S_CORRECT\", data=question_df_all, ax=axes[0,3], palette=\"pastel\")\n",
        "ax4.set_ylim(0,350)\n",
        "ax4.set_xlabel('')\n",
        "ax4.set_title('CORRECT_DELAY_FLAG')\n",
        "ax4.spines['top'].set_visible(False)\n",
        "ax4.spines['left'].set_visible(False)\n",
        "ax4.spines['right'].set_visible(False)\n",
        "ax4.spines['bottom'].set_visible(False)\n",
        "\n",
        "ax5 = sns.boxplot(x=\"WRONG_DELAY_FLAG\", y=\"TOTAL_DELAY_1S_WRONG\", data=question_df_all, ax=axes[1,0], palette=\"pastel\")\n",
        "ax5.set_ylim(0,350)\n",
        "ax5.set_xlabel('')\n",
        "ax5.set_title('WRONG_DELAY_FLAG')\n",
        "ax5.spines['top'].set_visible(False)\n",
        "ax5.spines['left'].set_visible(False)\n",
        "ax5.spines['right'].set_visible(False)\n",
        "ax5.spines['bottom'].set_visible(False)\n",
        "\n",
        "ax6 = sns.boxplot(x=\"CORRECT_SPEED_FLAG\", y=\"AVERAGE_SPEED_CORRECT\", data=question_df_all, ax=axes[1,1], palette=\"pastel\")\n",
        "ax6.set_ylim(0,2)\n",
        "ax6.set_xlabel('')\n",
        "ax6.set_title('CORRECT_SPEED_FLAG')\n",
        "ax6.spines['top'].set_visible(False)\n",
        "ax6.spines['left'].set_visible(False)\n",
        "ax6.spines['right'].set_visible(False)\n",
        "ax6.spines['bottom'].set_visible(False)\n",
        "\n",
        "ax7 = sns.boxplot(x=\"WRONG_SPEED_FLAG\", y=\"AVERAGE_SPEED_WRONG\", data=question_df_all, ax=axes[1,2], palette=\"pastel\")\n",
        "ax7.set_ylim(0,2.2)\n",
        "ax7.set_xlabel('')\n",
        "ax7.set_title('WRONG_SPEED_FLAG')\n",
        "ax7.spines['top'].set_visible(False)\n",
        "ax7.spines['left'].set_visible(False)\n",
        "ax7.spines['right'].set_visible(False)\n",
        "ax7.spines['bottom'].set_visible(False)"
      ],
      "execution_count": 49,
      "outputs": [
        {
          "output_type": "display_data",
          "data": {
            "image/png": "[encoded data removed]",
            "text/plain": [
              "<matplotlib.figure.Figure at 0x7f9448900588>"
            ]
          },
          "metadata": {
            "tags": []
          }
        }
      ]
    },
    {
      "metadata": {
        "id": "tHIvu0uMOe93",
        "colab_type": "text"
      },
      "cell_type": "markdown",
      "source": [
        "##Categorizing Students - Hierarchical Clustering"
      ]
    },
    {
      "metadata": {
        "id": "jDP3xakhOxji",
        "colab_type": "text"
      },
      "cell_type": "markdown",
      "source": [
        "We will use the question categories previously created to subset the dataset and categorize students. First, let's merge the previously created question clusters with the student dataset."
      ]
    },
    {
      "metadata": {
        "id": "1YCmsN313JLu",
        "colab_type": "code",
        "colab": {}
      },
      "cell_type": "code",
      "source": [
        "student_df = input_df.merge(question_df_all, on='QUESTION_ID', how='left')"
      ],
      "execution_count": 0,
      "outputs": []
    },
    {
      "metadata": {
        "id": "HcUnGoqyPUEl",
        "colab_type": "text"
      },
      "cell_type": "markdown",
      "source": [
        "### 1. By total time for difficult questions"
      ]
    },
    {
      "metadata": {
        "id": "f6b-k37MPlNe",
        "colab_type": "code",
        "outputId": "6c16d4fa-78c0-4aab-9d31-b30be69bb60e",
        "colab": {
          "base_uri": "https://localhost:8080/",
          "height": 632
        }
      },
      "cell_type": "code",
      "source": [
        "student_df1=student_df.loc[student_df.DIFFICULTY_FLAG == 'HIGH']\n",
        "student_df1=student_df1.groupby(['STUDENT_ID'])['TOTAL_TIME'].mean().reset_index()\n",
        "student_df1=student_df1.rename(columns={'TOTAL_TIME':'TOTAL_TIME_DIFFICULT'})\n",
        "\n",
        "scaler = StandardScaler()\n",
        "temp_scaled = scaler.fit_transform(student_df1[['TOTAL_TIME_DIFFICULT']])\n",
        "\n",
        "linked_array = ward(temp_scaled)\n",
        "\n",
        "fancy_dendrogram(\n",
        "    linked_array,\n",
        "    truncate_mode='lastp',\n",
        "    p=30,\n",
        "    leaf_rotation=90.,\n",
        "    leaf_font_size=12.,\n",
        "    show_contracted=True,\n",
        "    annotate_above=10,\n",
        "    max_d=20\n",
        ")\n",
        "\n",
        "plt.show()"
      ],
      "execution_count": 51,
      "outputs": [
        {
          "output_type": "display_data",
          "data": {
            "image/png": "[encoded data removed]",
            "text/plain": [
              "<matplotlib.figure.Figure at 0x7f944893a3c8>"
            ]
          },
          "metadata": {
            "tags": []
          }
        }
      ]
    },
    {
      "metadata": {
        "id": "XyeG6uRTR97l",
        "colab_type": "code",
        "outputId": "73e72e9d-7200-4471-ea2c-5f935576c2a5",
        "colab": {
          "base_uri": "https://localhost:8080/",
          "height": 184
        }
      },
      "cell_type": "code",
      "source": [
        "max_d = 20\n",
        "\n",
        "clusters = fcluster(linked_array, max_d, criterion='distance')\n",
        "\n",
        "labels, counts = np.unique(clusters, return_counts=True)\n",
        "\n",
        "student_df1['TOTAL_TIME_DIFFICULT_CLUSTER'] = clusters\n",
        "\n",
        "print('Clusters Summary\\n')\n",
        "for i in range(1,len(np.unique(clusters))+1):\n",
        "    print('\\nlabel: {}'.format(i))\n",
        "    print('n: {}'.format(counts[i-1]))\n",
        "    print('AVERAGE TOTAL TIME: {}'.format(round(student_df1[student_df1['TOTAL_TIME_DIFFICULT_CLUSTER'] == i].TOTAL_TIME_DIFFICULT.mean(), 2)))"
      ],
      "execution_count": 52,
      "outputs": [
        {
          "output_type": "stream",
          "text": [
            "Clusters Summary\n",
            "\n",
            "\n",
            "label: 1\n",
            "n: 109\n",
            "AVERAGE TOTAL TIME: 211.95\n",
            "\n",
            "label: 2\n",
            "n: 546\n",
            "AVERAGE TOTAL TIME: 92.91\n"
          ],
          "name": "stdout"
        }
      ]
    },
    {
      "metadata": {
        "id": "vPCwJ3XFmphM",
        "colab_type": "code",
        "colab": {}
      },
      "cell_type": "code",
      "source": [
        "student_df1.loc[student_df1['TOTAL_TIME_DIFFICULT_CLUSTER'] == 1, 'TOTAL_TIME_DIFFICULT_FLAG'] = 'HIGH'\n",
        "student_df1.loc[student_df1['TOTAL_TIME_DIFFICULT_CLUSTER'] == 2, 'TOTAL_TIME_DIFFICULT_FLAG'] = 'LOW'"
      ],
      "execution_count": 0,
      "outputs": []
    },
    {
      "metadata": {
        "id": "O193e7Fm-d-S",
        "colab_type": "text"
      },
      "cell_type": "markdown",
      "source": [
        "### 2. By total time in easy questions"
      ]
    },
    {
      "metadata": {
        "id": "tC84h8kpAjB9",
        "colab_type": "code",
        "outputId": "7196672f-e387-40da-f9d9-3f95084285e7",
        "colab": {
          "base_uri": "https://localhost:8080/",
          "height": 632
        }
      },
      "cell_type": "code",
      "source": [
        "valuelist = question_df_all['QUESTION_ID']\n",
        "#student_df2=student_df.loc[(student_df.DIFFICULTY_FLAG == 'LOW') & (student_df.STROKE_COUNT_CORRECT_FLAG.isin(valuelist))\n",
        "student_df2=student_df.loc[(student_df.DIFFICULTY_FLAG == 'LOW')]\n",
        "student_df2=student_df.groupby(['STUDENT_ID'])['TOTAL_TIME'].mean().reset_index()\n",
        "student_df2=student_df2.rename(columns={'TOTAL_TIME':'TOTAL_TIME_EASY'})\n",
        "\n",
        "scaler = StandardScaler()\n",
        "temp_scaled = scaler.fit_transform(student_df2[['TOTAL_TIME_EASY']])\n",
        "\n",
        "linked_array = ward(temp_scaled)\n",
        "\n",
        "fancy_dendrogram(\n",
        "    linked_array,\n",
        "    truncate_mode='lastp',\n",
        "    p=30,\n",
        "    leaf_rotation=90.,\n",
        "    leaf_font_size=12.,\n",
        "    show_contracted=True,\n",
        "    annotate_above=10,\n",
        "    max_d=21\n",
        ")\n",
        "\n",
        "plt.show()"
      ],
      "execution_count": 54,
      "outputs": [
        {
          "output_type": "display_data",
          "data": {
            "image/png": "[encoded data removed]",
            "text/plain": [
              "<matplotlib.figure.Figure at 0x7f9448a64668>"
            ]
          },
          "metadata": {
            "tags": []
          }
        }
      ]
    },
    {
      "metadata": {
        "id": "0Izo3vIqQEsx",
        "colab_type": "code",
        "outputId": "20c9886b-a62f-44fb-e6e6-3ae9e35f77a8",
        "colab": {
          "base_uri": "https://localhost:8080/",
          "height": 184
        }
      },
      "cell_type": "code",
      "source": [
        "max_d = 21\n",
        "\n",
        "clusters = fcluster(linked_array, max_d, criterion='distance')\n",
        "\n",
        "labels, counts = np.unique(clusters, return_counts=True)\n",
        "\n",
        "student_df2['TOTAL_TIME_EASY_CLUSTER'] = clusters\n",
        "\n",
        "print('Clusters Summary\\n')\n",
        "for i in range(1,len(np.unique(clusters))+1):\n",
        "    print('\\nlabel: {}'.format(i))\n",
        "    print('n: {}'.format(counts[i-1]))\n",
        "    print('AVERAGE TOTAL TIME: {}'.format(round(student_df2[student_df2['TOTAL_TIME_EASY_CLUSTER'] == i].TOTAL_TIME_EASY.mean(), 2)))"
      ],
      "execution_count": 55,
      "outputs": [
        {
          "output_type": "stream",
          "text": [
            "Clusters Summary\n",
            "\n",
            "\n",
            "label: 1\n",
            "n: 144\n",
            "AVERAGE TOTAL TIME: 59.19\n",
            "\n",
            "label: 2\n",
            "n: 558\n",
            "AVERAGE TOTAL TIME: 113.04\n"
          ],
          "name": "stdout"
        }
      ]
    },
    {
      "metadata": {
        "id": "CeO0pya5QdFs",
        "colab_type": "code",
        "colab": {}
      },
      "cell_type": "code",
      "source": [
        "student_df2.loc[student_df2['TOTAL_TIME_EASY_CLUSTER'] == 1, 'TOTAL_TIME_EASY_FLAG'] = 'LOW'\n",
        "student_df2.loc[student_df2['TOTAL_TIME_EASY_CLUSTER'] == 2, 'TOTAL_TIME_EASY_FLAG'] = 'HIGH'"
      ],
      "execution_count": 0,
      "outputs": []
    },
    {
      "metadata": {
        "id": "xfwUf4-jVTWC",
        "colab_type": "code",
        "colab": {}
      },
      "cell_type": "code",
      "source": [
        ""
      ],
      "execution_count": 0,
      "outputs": []
    }
  ]
}