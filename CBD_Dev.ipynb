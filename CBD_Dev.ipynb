{
  "nbformat": 4,
  "nbformat_minor": 0,
  "metadata": {
    "colab": {
      "name": "CBD_Dev.ipynb",
      "version": "0.3.2",
      "provenance": [],
      "collapsed_sections": [],
      "toc_visible": true,
      "include_colab_link": true
    },
    "kernelspec": {
      "name": "python3",
      "display_name": "Python 3"
    }
  },
  "cells": [
    {
      "cell_type": "markdown",
      "metadata": {
        "id": "view-in-github",
        "colab_type": "text"
      },
      "source": [
        "<a href=\"https://colab.research.google.com/github/ashwinsaba/CAI-Development/blob/master/CBD_Dev.ipynb\" target=\"_parent\"><img src=\"https://colab.research.google.com/assets/colab-badge.svg\" alt=\"Open In Colab\"/></a>"
      ]
    },
    {
      "metadata": {
        "id": "BzcHnr912oFO",
        "colab_type": "text"
      },
      "cell_type": "markdown",
      "source": [
        "# Create student clusters on the basis of performance and writing behavior using hyerarchical clustering\n",
        "\n",
        "---\n",
        "\n"
      ]
    },
    {
      "metadata": {
        "id": "MF7CiZFIev2T",
        "colab_type": "text"
      },
      "cell_type": "markdown",
      "source": [
        "##Introduction\n",
        "\n",
        "The purpose of this notebook is to design the logic for the Cognitive and Behavioral Diagnostics module of C.AI. For this purpose, the high-level approach we are undertaking is nested:\n",
        "\n",
        "***Categorize Questions --> Categorize students based on question categories***\n",
        "\n",
        "We will discuss the approach in detail towards the end of the notebook."
      ]
    },
    {
      "metadata": {
        "colab_type": "text",
        "id": "n0OO2TKWQDYk"
      },
      "cell_type": "markdown",
      "source": [
        "## Data Prepararion"
      ]
    },
    {
      "metadata": {
        "id": "e0Sm-d5Y2q2u",
        "colab_type": "code",
        "outputId": "46328580-25ce-4aab-b33a-0fdd52d8df40",
        "colab": {
          "base_uri": "https://localhost:8080/",
          "height": 120
        }
      },
      "cell_type": "code",
      "source": [
        "#Importing required libraries\n",
        "\n",
        "import pandas as pd\n",
        "import numpy as np\n",
        "import matplotlib.pyplot as plt\n",
        "import seaborn as sns\n",
        "%matplotlib inline\n",
        "import warnings\n",
        "import os\n",
        "warnings.filterwarnings(\"ignore\")\n",
        "from functools import reduce\n",
        "from sklearn.preprocessing import StandardScaler\n",
        "from scipy.cluster.hierarchy import dendrogram, ward, linkage\n",
        "from scipy.cluster.hierarchy import fcluster\n",
        "from scipy.cluster.hierarchy import cophenet\n",
        "from scipy.spatial.distance import pdist\n",
        "from google.colab import drive\n",
        "drive.mount('/content/drive')"
      ],
      "execution_count": 1,
      "outputs": [
        {
          "output_type": "stream",
          "text": [
            "Go to this URL in a browser: https://accounts.google.com/o/oauth2/auth?client_id=947318989803-6bn6qk8qdgf4n4g3pfee6491hc0brc4i.apps.googleusercontent.com&redirect_uri=urn%3Aietf%3Awg%3Aoauth%3A2.0%3Aoob&scope=email%20https%3A%2F%2Fwww.googleapis.com%2Fauth%2Fdocs.test%20https%3A%2F%2Fwww.googleapis.com%2Fauth%2Fdrive%20https%3A%2F%2Fwww.googleapis.com%2Fauth%2Fdrive.photos.readonly%20https%3A%2F%2Fwww.googleapis.com%2Fauth%2Fpeopleapi.readonly&response_type=code\n",
            "\n",
            "Enter your authorization code:\n",
            "··········\n",
            "Mounted at /content/drive\n"
          ],
          "name": "stdout"
        }
      ]
    },
    {
      "metadata": {
        "id": "fI51kxO92_zT",
        "colab_type": "code",
        "outputId": "e3d76d7a-e91a-4147-c6d9-495e6ce0f4c0",
        "colab": {
          "base_uri": "https://localhost:8080/",
          "height": 306
        }
      },
      "cell_type": "code",
      "source": [
        "#Import the clean dataset\n",
        "\n",
        "raw1=pd.read_csv('/content/drive/My Drive/cai_data/student_testing_clean.csv',index_col=0)\n",
        "raw1['TEST_ID'] = raw1['TEST_ID'].astype(str)\n",
        "raw1['QUESTION_ID'] = raw1['QUESTION_ID'].astype(str)\n",
        "raw1['STUDENT_ID'] = raw1['STUDENT_ID'].astype(str)\n",
        "raw1.describe()"
      ],
      "execution_count": 2,
      "outputs": [
        {
          "output_type": "execute_result",
          "data": {
            "text/html": [
              "<div>\n",
              "<style scoped>\n",
              "    .dataframe tbody tr th:only-of-type {\n",
              "        vertical-align: middle;\n",
              "    }\n",
              "\n",
              "    .dataframe tbody tr th {\n",
              "        vertical-align: top;\n",
              "    }\n",
              "\n",
              "    .dataframe thead th {\n",
              "        text-align: right;\n",
              "    }\n",
              "</style>\n",
              "<table border=\"1\" class=\"dataframe\">\n",
              "  <thead>\n",
              "    <tr style=\"text-align: right;\">\n",
              "      <th></th>\n",
              "      <th>RESPONSE</th>\n",
              "      <th>TOTAL_TIME</th>\n",
              "      <th>INITIAL_TIME</th>\n",
              "      <th>SOLVE_TIME</th>\n",
              "      <th>TOTAL_DELAY_1S</th>\n",
              "      <th>STROKE_COUNT</th>\n",
              "      <th>DELAY_1S</th>\n",
              "      <th>DELAY_2S</th>\n",
              "      <th>DELAY_3S</th>\n",
              "      <th>DELAY_4S</th>\n",
              "      <th>DELAY_5S</th>\n",
              "      <th>DELAY_10S</th>\n",
              "      <th>DELAY_20S</th>\n",
              "      <th>DELAY_30S</th>\n",
              "      <th>TOTAL_INK_LENGTH</th>\n",
              "      <th>AVERAGE_SPEED</th>\n",
              "      <th>INITIATION_SPEED</th>\n",
              "      <th>TERMINATION_SPEED</th>\n",
              "      <th>REWORK</th>\n",
              "    </tr>\n",
              "  </thead>\n",
              "  <tbody>\n",
              "    <tr>\n",
              "      <th>count</th>\n",
              "      <td>12360.000000</td>\n",
              "      <td>12360.000000</td>\n",
              "      <td>12360.000000</td>\n",
              "      <td>12360.000000</td>\n",
              "      <td>12360.000000</td>\n",
              "      <td>12360.000000</td>\n",
              "      <td>12360.000000</td>\n",
              "      <td>12360.000000</td>\n",
              "      <td>12360.000000</td>\n",
              "      <td>12360.000000</td>\n",
              "      <td>12360.000000</td>\n",
              "      <td>12360.000000</td>\n",
              "      <td>12360.000000</td>\n",
              "      <td>12360.000000</td>\n",
              "      <td>12360.000000</td>\n",
              "      <td>12360.000000</td>\n",
              "      <td>12360.000000</td>\n",
              "      <td>12360.000000</td>\n",
              "      <td>12360.000000</td>\n",
              "    </tr>\n",
              "    <tr>\n",
              "      <th>mean</th>\n",
              "      <td>0.582039</td>\n",
              "      <td>149.447006</td>\n",
              "      <td>26.369579</td>\n",
              "      <td>22.180178</td>\n",
              "      <td>123.862379</td>\n",
              "      <td>96.043366</td>\n",
              "      <td>27.137864</td>\n",
              "      <td>10.118042</td>\n",
              "      <td>7.344498</td>\n",
              "      <td>5.883819</td>\n",
              "      <td>4.911893</td>\n",
              "      <td>2.668689</td>\n",
              "      <td>1.251699</td>\n",
              "      <td>0.738107</td>\n",
              "      <td>78.803446</td>\n",
              "      <td>0.653389</td>\n",
              "      <td>1.031146</td>\n",
              "      <td>1.198605</td>\n",
              "      <td>-1.457929</td>\n",
              "    </tr>\n",
              "    <tr>\n",
              "      <th>std</th>\n",
              "      <td>0.493244</td>\n",
              "      <td>140.198458</td>\n",
              "      <td>31.377509</td>\n",
              "      <td>18.490791</td>\n",
              "      <td>101.118197</td>\n",
              "      <td>80.293039</td>\n",
              "      <td>20.242756</td>\n",
              "      <td>7.252593</td>\n",
              "      <td>5.254377</td>\n",
              "      <td>4.235704</td>\n",
              "      <td>3.583108</td>\n",
              "      <td>2.208786</td>\n",
              "      <td>1.352745</td>\n",
              "      <td>0.993190</td>\n",
              "      <td>65.047872</td>\n",
              "      <td>0.438426</td>\n",
              "      <td>0.787130</td>\n",
              "      <td>1.041637</td>\n",
              "      <td>2.290394</td>\n",
              "    </tr>\n",
              "    <tr>\n",
              "      <th>min</th>\n",
              "      <td>0.000000</td>\n",
              "      <td>1.000000</td>\n",
              "      <td>0.000000</td>\n",
              "      <td>1.000000</td>\n",
              "      <td>0.000000</td>\n",
              "      <td>1.000000</td>\n",
              "      <td>0.000000</td>\n",
              "      <td>0.000000</td>\n",
              "      <td>0.000000</td>\n",
              "      <td>0.000000</td>\n",
              "      <td>0.000000</td>\n",
              "      <td>0.000000</td>\n",
              "      <td>0.000000</td>\n",
              "      <td>0.000000</td>\n",
              "      <td>0.040000</td>\n",
              "      <td>0.000000</td>\n",
              "      <td>0.000000</td>\n",
              "      <td>0.000000</td>\n",
              "      <td>-32.000000</td>\n",
              "    </tr>\n",
              "    <tr>\n",
              "      <th>25%</th>\n",
              "      <td>0.000000</td>\n",
              "      <td>65.000000</td>\n",
              "      <td>9.000000</td>\n",
              "      <td>8.750000</td>\n",
              "      <td>53.000000</td>\n",
              "      <td>36.000000</td>\n",
              "      <td>12.000000</td>\n",
              "      <td>5.000000</td>\n",
              "      <td>3.000000</td>\n",
              "      <td>3.000000</td>\n",
              "      <td>2.000000</td>\n",
              "      <td>1.000000</td>\n",
              "      <td>0.000000</td>\n",
              "      <td>0.000000</td>\n",
              "      <td>31.365000</td>\n",
              "      <td>0.320000</td>\n",
              "      <td>0.430000</td>\n",
              "      <td>0.400000</td>\n",
              "      <td>-2.000000</td>\n",
              "    </tr>\n",
              "    <tr>\n",
              "      <th>50%</th>\n",
              "      <td>1.000000</td>\n",
              "      <td>113.000000</td>\n",
              "      <td>16.000000</td>\n",
              "      <td>17.000000</td>\n",
              "      <td>94.000000</td>\n",
              "      <td>74.000000</td>\n",
              "      <td>22.000000</td>\n",
              "      <td>8.000000</td>\n",
              "      <td>6.000000</td>\n",
              "      <td>5.000000</td>\n",
              "      <td>4.000000</td>\n",
              "      <td>2.000000</td>\n",
              "      <td>1.000000</td>\n",
              "      <td>0.000000</td>\n",
              "      <td>61.010000</td>\n",
              "      <td>0.570000</td>\n",
              "      <td>0.880000</td>\n",
              "      <td>0.940000</td>\n",
              "      <td>-1.000000</td>\n",
              "    </tr>\n",
              "    <tr>\n",
              "      <th>75%</th>\n",
              "      <td>1.000000</td>\n",
              "      <td>192.000000</td>\n",
              "      <td>30.000000</td>\n",
              "      <td>31.000000</td>\n",
              "      <td>163.000000</td>\n",
              "      <td>134.000000</td>\n",
              "      <td>37.000000</td>\n",
              "      <td>14.000000</td>\n",
              "      <td>10.000000</td>\n",
              "      <td>8.000000</td>\n",
              "      <td>7.000000</td>\n",
              "      <td>4.000000</td>\n",
              "      <td>2.000000</td>\n",
              "      <td>1.000000</td>\n",
              "      <td>108.242500</td>\n",
              "      <td>0.890000</td>\n",
              "      <td>1.450000</td>\n",
              "      <td>1.730000</td>\n",
              "      <td>0.000000</td>\n",
              "    </tr>\n",
              "    <tr>\n",
              "      <th>max</th>\n",
              "      <td>1.000000</td>\n",
              "      <td>1984.000000</td>\n",
              "      <td>283.000000</td>\n",
              "      <td>111.000000</td>\n",
              "      <td>853.000000</td>\n",
              "      <td>486.000000</td>\n",
              "      <td>123.000000</td>\n",
              "      <td>45.000000</td>\n",
              "      <td>33.000000</td>\n",
              "      <td>26.000000</td>\n",
              "      <td>22.000000</td>\n",
              "      <td>13.000000</td>\n",
              "      <td>7.000000</td>\n",
              "      <td>5.000000</td>\n",
              "      <td>408.860000</td>\n",
              "      <td>2.420000</td>\n",
              "      <td>4.880000</td>\n",
              "      <td>5.950000</td>\n",
              "      <td>0.000000</td>\n",
              "    </tr>\n",
              "  </tbody>\n",
              "</table>\n",
              "</div>"
            ],
            "text/plain": [
              "           RESPONSE    TOTAL_TIME  INITIAL_TIME    SOLVE_TIME  TOTAL_DELAY_1S  \\\n",
              "count  12360.000000  12360.000000  12360.000000  12360.000000    12360.000000   \n",
              "mean       0.582039    149.447006     26.369579     22.180178      123.862379   \n",
              "std        0.493244    140.198458     31.377509     18.490791      101.118197   \n",
              "min        0.000000      1.000000      0.000000      1.000000        0.000000   \n",
              "25%        0.000000     65.000000      9.000000      8.750000       53.000000   \n",
              "50%        1.000000    113.000000     16.000000     17.000000       94.000000   \n",
              "75%        1.000000    192.000000     30.000000     31.000000      163.000000   \n",
              "max        1.000000   1984.000000    283.000000    111.000000      853.000000   \n",
              "\n",
              "       STROKE_COUNT      DELAY_1S      DELAY_2S      DELAY_3S      DELAY_4S  \\\n",
              "count  12360.000000  12360.000000  12360.000000  12360.000000  12360.000000   \n",
              "mean      96.043366     27.137864     10.118042      7.344498      5.883819   \n",
              "std       80.293039     20.242756      7.252593      5.254377      4.235704   \n",
              "min        1.000000      0.000000      0.000000      0.000000      0.000000   \n",
              "25%       36.000000     12.000000      5.000000      3.000000      3.000000   \n",
              "50%       74.000000     22.000000      8.000000      6.000000      5.000000   \n",
              "75%      134.000000     37.000000     14.000000     10.000000      8.000000   \n",
              "max      486.000000    123.000000     45.000000     33.000000     26.000000   \n",
              "\n",
              "           DELAY_5S     DELAY_10S     DELAY_20S     DELAY_30S  \\\n",
              "count  12360.000000  12360.000000  12360.000000  12360.000000   \n",
              "mean       4.911893      2.668689      1.251699      0.738107   \n",
              "std        3.583108      2.208786      1.352745      0.993190   \n",
              "min        0.000000      0.000000      0.000000      0.000000   \n",
              "25%        2.000000      1.000000      0.000000      0.000000   \n",
              "50%        4.000000      2.000000      1.000000      0.000000   \n",
              "75%        7.000000      4.000000      2.000000      1.000000   \n",
              "max       22.000000     13.000000      7.000000      5.000000   \n",
              "\n",
              "       TOTAL_INK_LENGTH  AVERAGE_SPEED  INITIATION_SPEED  TERMINATION_SPEED  \\\n",
              "count      12360.000000   12360.000000      12360.000000       12360.000000   \n",
              "mean          78.803446       0.653389          1.031146           1.198605   \n",
              "std           65.047872       0.438426          0.787130           1.041637   \n",
              "min            0.040000       0.000000          0.000000           0.000000   \n",
              "25%           31.365000       0.320000          0.430000           0.400000   \n",
              "50%           61.010000       0.570000          0.880000           0.940000   \n",
              "75%          108.242500       0.890000          1.450000           1.730000   \n",
              "max          408.860000       2.420000          4.880000           5.950000   \n",
              "\n",
              "             REWORK  \n",
              "count  12360.000000  \n",
              "mean      -1.457929  \n",
              "std        2.290394  \n",
              "min      -32.000000  \n",
              "25%       -2.000000  \n",
              "50%       -1.000000  \n",
              "75%        0.000000  \n",
              "max        0.000000  "
            ]
          },
          "metadata": {
            "tags": []
          },
          "execution_count": 2
        }
      ]
    },
    {
      "metadata": {
        "id": "VvjYiy6Z4oKb",
        "colab_type": "code",
        "outputId": "3c02a036-2ded-4195-df30-b5f3f5ae74c0",
        "colab": {
          "base_uri": "https://localhost:8080/",
          "height": 306
        }
      },
      "cell_type": "code",
      "source": [
        "# Subset only the tests with more than 10 questions\n",
        "\n",
        "test_df1=raw1.groupby(['TEST_ID'])[['QUESTION_ID']].nunique().reset_index()\n",
        "test_df1=test_df1.rename(columns={'QUESTION_ID':'NUM_OF_QUESTIONS'})\n",
        "long_tests=test_df1['TEST_ID'][(test_df1['NUM_OF_QUESTIONS']>10)]\n",
        "raw2=raw1[raw1.TEST_ID.isin(long_tests)]\n",
        "raw2.describe()"
      ],
      "execution_count": 3,
      "outputs": [
        {
          "output_type": "execute_result",
          "data": {
            "text/html": [
              "<div>\n",
              "<style scoped>\n",
              "    .dataframe tbody tr th:only-of-type {\n",
              "        vertical-align: middle;\n",
              "    }\n",
              "\n",
              "    .dataframe tbody tr th {\n",
              "        vertical-align: top;\n",
              "    }\n",
              "\n",
              "    .dataframe thead th {\n",
              "        text-align: right;\n",
              "    }\n",
              "</style>\n",
              "<table border=\"1\" class=\"dataframe\">\n",
              "  <thead>\n",
              "    <tr style=\"text-align: right;\">\n",
              "      <th></th>\n",
              "      <th>RESPONSE</th>\n",
              "      <th>TOTAL_TIME</th>\n",
              "      <th>INITIAL_TIME</th>\n",
              "      <th>SOLVE_TIME</th>\n",
              "      <th>TOTAL_DELAY_1S</th>\n",
              "      <th>STROKE_COUNT</th>\n",
              "      <th>DELAY_1S</th>\n",
              "      <th>DELAY_2S</th>\n",
              "      <th>DELAY_3S</th>\n",
              "      <th>DELAY_4S</th>\n",
              "      <th>DELAY_5S</th>\n",
              "      <th>DELAY_10S</th>\n",
              "      <th>DELAY_20S</th>\n",
              "      <th>DELAY_30S</th>\n",
              "      <th>TOTAL_INK_LENGTH</th>\n",
              "      <th>AVERAGE_SPEED</th>\n",
              "      <th>INITIATION_SPEED</th>\n",
              "      <th>TERMINATION_SPEED</th>\n",
              "      <th>REWORK</th>\n",
              "    </tr>\n",
              "  </thead>\n",
              "  <tbody>\n",
              "    <tr>\n",
              "      <th>count</th>\n",
              "      <td>7887.000000</td>\n",
              "      <td>7887.000000</td>\n",
              "      <td>7887.000000</td>\n",
              "      <td>7887.000000</td>\n",
              "      <td>7887.000000</td>\n",
              "      <td>7887.000000</td>\n",
              "      <td>7887.000000</td>\n",
              "      <td>7887.000000</td>\n",
              "      <td>7887.000000</td>\n",
              "      <td>7887.000000</td>\n",
              "      <td>7887.000000</td>\n",
              "      <td>7887.000000</td>\n",
              "      <td>7887.000000</td>\n",
              "      <td>7887.000000</td>\n",
              "      <td>7887.000000</td>\n",
              "      <td>7887.000000</td>\n",
              "      <td>7887.000000</td>\n",
              "      <td>7887.000000</td>\n",
              "      <td>7887.000000</td>\n",
              "    </tr>\n",
              "    <tr>\n",
              "      <th>mean</th>\n",
              "      <td>0.640041</td>\n",
              "      <td>146.500444</td>\n",
              "      <td>26.912641</td>\n",
              "      <td>20.897680</td>\n",
              "      <td>119.982756</td>\n",
              "      <td>89.243565</td>\n",
              "      <td>25.844808</td>\n",
              "      <td>9.750602</td>\n",
              "      <td>7.069355</td>\n",
              "      <td>5.664004</td>\n",
              "      <td>4.727019</td>\n",
              "      <td>2.574109</td>\n",
              "      <td>1.218207</td>\n",
              "      <td>0.723723</td>\n",
              "      <td>74.777465</td>\n",
              "      <td>0.657630</td>\n",
              "      <td>0.987978</td>\n",
              "      <td>1.219940</td>\n",
              "      <td>-1.270445</td>\n",
              "    </tr>\n",
              "    <tr>\n",
              "      <th>std</th>\n",
              "      <td>0.480019</td>\n",
              "      <td>152.795400</td>\n",
              "      <td>32.391325</td>\n",
              "      <td>17.921103</td>\n",
              "      <td>98.998341</td>\n",
              "      <td>76.663032</td>\n",
              "      <td>19.584901</td>\n",
              "      <td>7.073044</td>\n",
              "      <td>5.127206</td>\n",
              "      <td>4.152978</td>\n",
              "      <td>3.518569</td>\n",
              "      <td>2.185722</td>\n",
              "      <td>1.324072</td>\n",
              "      <td>0.973201</td>\n",
              "      <td>64.097801</td>\n",
              "      <td>0.458933</td>\n",
              "      <td>0.789801</td>\n",
              "      <td>1.063639</td>\n",
              "      <td>2.141760</td>\n",
              "    </tr>\n",
              "    <tr>\n",
              "      <th>min</th>\n",
              "      <td>0.000000</td>\n",
              "      <td>1.000000</td>\n",
              "      <td>0.000000</td>\n",
              "      <td>1.000000</td>\n",
              "      <td>0.000000</td>\n",
              "      <td>1.000000</td>\n",
              "      <td>0.000000</td>\n",
              "      <td>0.000000</td>\n",
              "      <td>0.000000</td>\n",
              "      <td>0.000000</td>\n",
              "      <td>0.000000</td>\n",
              "      <td>0.000000</td>\n",
              "      <td>0.000000</td>\n",
              "      <td>0.000000</td>\n",
              "      <td>0.040000</td>\n",
              "      <td>0.000000</td>\n",
              "      <td>0.000000</td>\n",
              "      <td>0.000000</td>\n",
              "      <td>-21.000000</td>\n",
              "    </tr>\n",
              "    <tr>\n",
              "      <th>25%</th>\n",
              "      <td>0.000000</td>\n",
              "      <td>60.000000</td>\n",
              "      <td>9.000000</td>\n",
              "      <td>8.000000</td>\n",
              "      <td>51.000000</td>\n",
              "      <td>33.000000</td>\n",
              "      <td>11.000000</td>\n",
              "      <td>5.000000</td>\n",
              "      <td>3.000000</td>\n",
              "      <td>3.000000</td>\n",
              "      <td>2.000000</td>\n",
              "      <td>1.000000</td>\n",
              "      <td>0.000000</td>\n",
              "      <td>0.000000</td>\n",
              "      <td>28.170000</td>\n",
              "      <td>0.300000</td>\n",
              "      <td>0.390000</td>\n",
              "      <td>0.390000</td>\n",
              "      <td>-2.000000</td>\n",
              "    </tr>\n",
              "    <tr>\n",
              "      <th>50%</th>\n",
              "      <td>1.000000</td>\n",
              "      <td>107.000000</td>\n",
              "      <td>16.000000</td>\n",
              "      <td>16.000000</td>\n",
              "      <td>90.000000</td>\n",
              "      <td>68.000000</td>\n",
              "      <td>21.000000</td>\n",
              "      <td>8.000000</td>\n",
              "      <td>6.000000</td>\n",
              "      <td>5.000000</td>\n",
              "      <td>4.000000</td>\n",
              "      <td>2.000000</td>\n",
              "      <td>1.000000</td>\n",
              "      <td>0.000000</td>\n",
              "      <td>56.970000</td>\n",
              "      <td>0.570000</td>\n",
              "      <td>0.820000</td>\n",
              "      <td>0.970000</td>\n",
              "      <td>0.000000</td>\n",
              "    </tr>\n",
              "    <tr>\n",
              "      <th>75%</th>\n",
              "      <td>1.000000</td>\n",
              "      <td>185.000000</td>\n",
              "      <td>31.000000</td>\n",
              "      <td>29.000000</td>\n",
              "      <td>158.000000</td>\n",
              "      <td>125.000000</td>\n",
              "      <td>35.000000</td>\n",
              "      <td>13.000000</td>\n",
              "      <td>10.000000</td>\n",
              "      <td>8.000000</td>\n",
              "      <td>6.000000</td>\n",
              "      <td>4.000000</td>\n",
              "      <td>2.000000</td>\n",
              "      <td>1.000000</td>\n",
              "      <td>101.230000</td>\n",
              "      <td>0.920000</td>\n",
              "      <td>1.400000</td>\n",
              "      <td>1.770000</td>\n",
              "      <td>0.000000</td>\n",
              "    </tr>\n",
              "    <tr>\n",
              "      <th>max</th>\n",
              "      <td>1.000000</td>\n",
              "      <td>1984.000000</td>\n",
              "      <td>283.000000</td>\n",
              "      <td>110.000000</td>\n",
              "      <td>843.000000</td>\n",
              "      <td>468.000000</td>\n",
              "      <td>123.000000</td>\n",
              "      <td>45.000000</td>\n",
              "      <td>32.000000</td>\n",
              "      <td>26.000000</td>\n",
              "      <td>22.000000</td>\n",
              "      <td>13.000000</td>\n",
              "      <td>7.000000</td>\n",
              "      <td>5.000000</td>\n",
              "      <td>408.860000</td>\n",
              "      <td>2.420000</td>\n",
              "      <td>4.880000</td>\n",
              "      <td>5.950000</td>\n",
              "      <td>0.000000</td>\n",
              "    </tr>\n",
              "  </tbody>\n",
              "</table>\n",
              "</div>"
            ],
            "text/plain": [
              "          RESPONSE   TOTAL_TIME  INITIAL_TIME   SOLVE_TIME  TOTAL_DELAY_1S  \\\n",
              "count  7887.000000  7887.000000   7887.000000  7887.000000     7887.000000   \n",
              "mean      0.640041   146.500444     26.912641    20.897680      119.982756   \n",
              "std       0.480019   152.795400     32.391325    17.921103       98.998341   \n",
              "min       0.000000     1.000000      0.000000     1.000000        0.000000   \n",
              "25%       0.000000    60.000000      9.000000     8.000000       51.000000   \n",
              "50%       1.000000   107.000000     16.000000    16.000000       90.000000   \n",
              "75%       1.000000   185.000000     31.000000    29.000000      158.000000   \n",
              "max       1.000000  1984.000000    283.000000   110.000000      843.000000   \n",
              "\n",
              "       STROKE_COUNT     DELAY_1S     DELAY_2S     DELAY_3S     DELAY_4S  \\\n",
              "count   7887.000000  7887.000000  7887.000000  7887.000000  7887.000000   \n",
              "mean      89.243565    25.844808     9.750602     7.069355     5.664004   \n",
              "std       76.663032    19.584901     7.073044     5.127206     4.152978   \n",
              "min        1.000000     0.000000     0.000000     0.000000     0.000000   \n",
              "25%       33.000000    11.000000     5.000000     3.000000     3.000000   \n",
              "50%       68.000000    21.000000     8.000000     6.000000     5.000000   \n",
              "75%      125.000000    35.000000    13.000000    10.000000     8.000000   \n",
              "max      468.000000   123.000000    45.000000    32.000000    26.000000   \n",
              "\n",
              "          DELAY_5S    DELAY_10S    DELAY_20S    DELAY_30S  TOTAL_INK_LENGTH  \\\n",
              "count  7887.000000  7887.000000  7887.000000  7887.000000       7887.000000   \n",
              "mean      4.727019     2.574109     1.218207     0.723723         74.777465   \n",
              "std       3.518569     2.185722     1.324072     0.973201         64.097801   \n",
              "min       0.000000     0.000000     0.000000     0.000000          0.040000   \n",
              "25%       2.000000     1.000000     0.000000     0.000000         28.170000   \n",
              "50%       4.000000     2.000000     1.000000     0.000000         56.970000   \n",
              "75%       6.000000     4.000000     2.000000     1.000000        101.230000   \n",
              "max      22.000000    13.000000     7.000000     5.000000        408.860000   \n",
              "\n",
              "       AVERAGE_SPEED  INITIATION_SPEED  TERMINATION_SPEED       REWORK  \n",
              "count    7887.000000       7887.000000        7887.000000  7887.000000  \n",
              "mean        0.657630          0.987978           1.219940    -1.270445  \n",
              "std         0.458933          0.789801           1.063639     2.141760  \n",
              "min         0.000000          0.000000           0.000000   -21.000000  \n",
              "25%         0.300000          0.390000           0.390000    -2.000000  \n",
              "50%         0.570000          0.820000           0.970000     0.000000  \n",
              "75%         0.920000          1.400000           1.770000     0.000000  \n",
              "max         2.420000          4.880000           5.950000     0.000000  "
            ]
          },
          "metadata": {
            "tags": []
          },
          "execution_count": 3
        }
      ]
    },
    {
      "metadata": {
        "id": "VKDmj8ti4xhC",
        "colab_type": "code",
        "outputId": "cbab8cea-0947-4717-81be-4e94d3abe6cf",
        "colab": {
          "base_uri": "https://localhost:8080/",
          "height": 306
        }
      },
      "cell_type": "code",
      "source": [
        "# Subset only the students who have answered a reasonable number of questions\n",
        "\n",
        "studentcount_df=raw1.groupby(['STUDENT_ID'])[['QUESTION_ID']].nunique().reset_index()\n",
        "studentcount_df=studentcount_df.rename(columns={'QUESTION_ID':'NUM_OF_QUESTIONS'})\n",
        "long_students=studentcount_df['STUDENT_ID'][(studentcount_df['NUM_OF_QUESTIONS']>20)]\n",
        "raw3=raw2[raw2.STUDENT_ID.isin(long_students)]\n",
        "input_df=raw3.copy()\n",
        "input_df.describe()"
      ],
      "execution_count": 4,
      "outputs": [
        {
          "output_type": "execute_result",
          "data": {
            "text/html": [
              "<div>\n",
              "<style scoped>\n",
              "    .dataframe tbody tr th:only-of-type {\n",
              "        vertical-align: middle;\n",
              "    }\n",
              "\n",
              "    .dataframe tbody tr th {\n",
              "        vertical-align: top;\n",
              "    }\n",
              "\n",
              "    .dataframe thead th {\n",
              "        text-align: right;\n",
              "    }\n",
              "</style>\n",
              "<table border=\"1\" class=\"dataframe\">\n",
              "  <thead>\n",
              "    <tr style=\"text-align: right;\">\n",
              "      <th></th>\n",
              "      <th>RESPONSE</th>\n",
              "      <th>TOTAL_TIME</th>\n",
              "      <th>INITIAL_TIME</th>\n",
              "      <th>SOLVE_TIME</th>\n",
              "      <th>TOTAL_DELAY_1S</th>\n",
              "      <th>STROKE_COUNT</th>\n",
              "      <th>DELAY_1S</th>\n",
              "      <th>DELAY_2S</th>\n",
              "      <th>DELAY_3S</th>\n",
              "      <th>DELAY_4S</th>\n",
              "      <th>DELAY_5S</th>\n",
              "      <th>DELAY_10S</th>\n",
              "      <th>DELAY_20S</th>\n",
              "      <th>DELAY_30S</th>\n",
              "      <th>TOTAL_INK_LENGTH</th>\n",
              "      <th>AVERAGE_SPEED</th>\n",
              "      <th>INITIATION_SPEED</th>\n",
              "      <th>TERMINATION_SPEED</th>\n",
              "      <th>REWORK</th>\n",
              "    </tr>\n",
              "  </thead>\n",
              "  <tbody>\n",
              "    <tr>\n",
              "      <th>count</th>\n",
              "      <td>7448.000000</td>\n",
              "      <td>7448.000000</td>\n",
              "      <td>7448.000000</td>\n",
              "      <td>7448.000000</td>\n",
              "      <td>7448.000000</td>\n",
              "      <td>7448.000000</td>\n",
              "      <td>7448.000000</td>\n",
              "      <td>7448.000000</td>\n",
              "      <td>7448.000000</td>\n",
              "      <td>7448.000000</td>\n",
              "      <td>7448.000000</td>\n",
              "      <td>7448.000000</td>\n",
              "      <td>7448.000000</td>\n",
              "      <td>7448.000000</td>\n",
              "      <td>7448.000000</td>\n",
              "      <td>7448.000000</td>\n",
              "      <td>7448.000000</td>\n",
              "      <td>7448.000000</td>\n",
              "      <td>7448.000000</td>\n",
              "    </tr>\n",
              "    <tr>\n",
              "      <th>mean</th>\n",
              "      <td>0.640172</td>\n",
              "      <td>141.743421</td>\n",
              "      <td>27.084989</td>\n",
              "      <td>20.614125</td>\n",
              "      <td>119.516246</td>\n",
              "      <td>87.738856</td>\n",
              "      <td>25.508996</td>\n",
              "      <td>9.644066</td>\n",
              "      <td>7.001477</td>\n",
              "      <td>5.621106</td>\n",
              "      <td>4.694817</td>\n",
              "      <td>2.560687</td>\n",
              "      <td>1.216434</td>\n",
              "      <td>0.726101</td>\n",
              "      <td>74.157489</td>\n",
              "      <td>0.654334</td>\n",
              "      <td>0.990979</td>\n",
              "      <td>1.226089</td>\n",
              "      <td>-1.235499</td>\n",
              "    </tr>\n",
              "    <tr>\n",
              "      <th>std</th>\n",
              "      <td>0.479982</td>\n",
              "      <td>130.557883</td>\n",
              "      <td>32.595365</td>\n",
              "      <td>17.810722</td>\n",
              "      <td>99.156744</td>\n",
              "      <td>75.762090</td>\n",
              "      <td>19.409517</td>\n",
              "      <td>7.010738</td>\n",
              "      <td>5.095265</td>\n",
              "      <td>4.130098</td>\n",
              "      <td>3.502600</td>\n",
              "      <td>2.178196</td>\n",
              "      <td>1.325961</td>\n",
              "      <td>0.973894</td>\n",
              "      <td>63.888842</td>\n",
              "      <td>0.458631</td>\n",
              "      <td>0.798458</td>\n",
              "      <td>1.067670</td>\n",
              "      <td>2.130650</td>\n",
              "    </tr>\n",
              "    <tr>\n",
              "      <th>min</th>\n",
              "      <td>0.000000</td>\n",
              "      <td>1.000000</td>\n",
              "      <td>0.000000</td>\n",
              "      <td>1.000000</td>\n",
              "      <td>2.000000</td>\n",
              "      <td>1.000000</td>\n",
              "      <td>1.000000</td>\n",
              "      <td>1.000000</td>\n",
              "      <td>0.000000</td>\n",
              "      <td>0.000000</td>\n",
              "      <td>0.000000</td>\n",
              "      <td>0.000000</td>\n",
              "      <td>0.000000</td>\n",
              "      <td>0.000000</td>\n",
              "      <td>0.040000</td>\n",
              "      <td>0.000000</td>\n",
              "      <td>0.000000</td>\n",
              "      <td>0.000000</td>\n",
              "      <td>-21.000000</td>\n",
              "    </tr>\n",
              "    <tr>\n",
              "      <th>25%</th>\n",
              "      <td>0.000000</td>\n",
              "      <td>60.000000</td>\n",
              "      <td>9.000000</td>\n",
              "      <td>8.000000</td>\n",
              "      <td>51.000000</td>\n",
              "      <td>32.000000</td>\n",
              "      <td>11.000000</td>\n",
              "      <td>4.000000</td>\n",
              "      <td>3.000000</td>\n",
              "      <td>3.000000</td>\n",
              "      <td>2.000000</td>\n",
              "      <td>1.000000</td>\n",
              "      <td>0.000000</td>\n",
              "      <td>0.000000</td>\n",
              "      <td>27.620000</td>\n",
              "      <td>0.300000</td>\n",
              "      <td>0.380000</td>\n",
              "      <td>0.390000</td>\n",
              "      <td>-2.000000</td>\n",
              "    </tr>\n",
              "    <tr>\n",
              "      <th>50%</th>\n",
              "      <td>1.000000</td>\n",
              "      <td>106.000000</td>\n",
              "      <td>16.000000</td>\n",
              "      <td>16.000000</td>\n",
              "      <td>89.000000</td>\n",
              "      <td>66.000000</td>\n",
              "      <td>20.000000</td>\n",
              "      <td>8.000000</td>\n",
              "      <td>6.000000</td>\n",
              "      <td>5.000000</td>\n",
              "      <td>4.000000</td>\n",
              "      <td>2.000000</td>\n",
              "      <td>1.000000</td>\n",
              "      <td>0.000000</td>\n",
              "      <td>56.060000</td>\n",
              "      <td>0.560000</td>\n",
              "      <td>0.820000</td>\n",
              "      <td>0.980000</td>\n",
              "      <td>0.000000</td>\n",
              "    </tr>\n",
              "    <tr>\n",
              "      <th>75%</th>\n",
              "      <td>1.000000</td>\n",
              "      <td>183.000000</td>\n",
              "      <td>31.000000</td>\n",
              "      <td>28.000000</td>\n",
              "      <td>157.000000</td>\n",
              "      <td>123.000000</td>\n",
              "      <td>35.000000</td>\n",
              "      <td>13.000000</td>\n",
              "      <td>9.000000</td>\n",
              "      <td>8.000000</td>\n",
              "      <td>6.000000</td>\n",
              "      <td>4.000000</td>\n",
              "      <td>2.000000</td>\n",
              "      <td>1.000000</td>\n",
              "      <td>100.300000</td>\n",
              "      <td>0.910000</td>\n",
              "      <td>1.410000</td>\n",
              "      <td>1.790000</td>\n",
              "      <td>0.000000</td>\n",
              "    </tr>\n",
              "    <tr>\n",
              "      <th>max</th>\n",
              "      <td>1.000000</td>\n",
              "      <td>1984.000000</td>\n",
              "      <td>283.000000</td>\n",
              "      <td>110.000000</td>\n",
              "      <td>843.000000</td>\n",
              "      <td>466.000000</td>\n",
              "      <td>118.000000</td>\n",
              "      <td>45.000000</td>\n",
              "      <td>32.000000</td>\n",
              "      <td>26.000000</td>\n",
              "      <td>22.000000</td>\n",
              "      <td>13.000000</td>\n",
              "      <td>7.000000</td>\n",
              "      <td>5.000000</td>\n",
              "      <td>408.860000</td>\n",
              "      <td>2.420000</td>\n",
              "      <td>4.880000</td>\n",
              "      <td>5.950000</td>\n",
              "      <td>0.000000</td>\n",
              "    </tr>\n",
              "  </tbody>\n",
              "</table>\n",
              "</div>"
            ],
            "text/plain": [
              "          RESPONSE   TOTAL_TIME  INITIAL_TIME   SOLVE_TIME  TOTAL_DELAY_1S  \\\n",
              "count  7448.000000  7448.000000   7448.000000  7448.000000     7448.000000   \n",
              "mean      0.640172   141.743421     27.084989    20.614125      119.516246   \n",
              "std       0.479982   130.557883     32.595365    17.810722       99.156744   \n",
              "min       0.000000     1.000000      0.000000     1.000000        2.000000   \n",
              "25%       0.000000    60.000000      9.000000     8.000000       51.000000   \n",
              "50%       1.000000   106.000000     16.000000    16.000000       89.000000   \n",
              "75%       1.000000   183.000000     31.000000    28.000000      157.000000   \n",
              "max       1.000000  1984.000000    283.000000   110.000000      843.000000   \n",
              "\n",
              "       STROKE_COUNT     DELAY_1S     DELAY_2S     DELAY_3S     DELAY_4S  \\\n",
              "count   7448.000000  7448.000000  7448.000000  7448.000000  7448.000000   \n",
              "mean      87.738856    25.508996     9.644066     7.001477     5.621106   \n",
              "std       75.762090    19.409517     7.010738     5.095265     4.130098   \n",
              "min        1.000000     1.000000     1.000000     0.000000     0.000000   \n",
              "25%       32.000000    11.000000     4.000000     3.000000     3.000000   \n",
              "50%       66.000000    20.000000     8.000000     6.000000     5.000000   \n",
              "75%      123.000000    35.000000    13.000000     9.000000     8.000000   \n",
              "max      466.000000   118.000000    45.000000    32.000000    26.000000   \n",
              "\n",
              "          DELAY_5S    DELAY_10S    DELAY_20S    DELAY_30S  TOTAL_INK_LENGTH  \\\n",
              "count  7448.000000  7448.000000  7448.000000  7448.000000       7448.000000   \n",
              "mean      4.694817     2.560687     1.216434     0.726101         74.157489   \n",
              "std       3.502600     2.178196     1.325961     0.973894         63.888842   \n",
              "min       0.000000     0.000000     0.000000     0.000000          0.040000   \n",
              "25%       2.000000     1.000000     0.000000     0.000000         27.620000   \n",
              "50%       4.000000     2.000000     1.000000     0.000000         56.060000   \n",
              "75%       6.000000     4.000000     2.000000     1.000000        100.300000   \n",
              "max      22.000000    13.000000     7.000000     5.000000        408.860000   \n",
              "\n",
              "       AVERAGE_SPEED  INITIATION_SPEED  TERMINATION_SPEED       REWORK  \n",
              "count    7448.000000       7448.000000        7448.000000  7448.000000  \n",
              "mean        0.654334          0.990979           1.226089    -1.235499  \n",
              "std         0.458631          0.798458           1.067670     2.130650  \n",
              "min         0.000000          0.000000           0.000000   -21.000000  \n",
              "25%         0.300000          0.380000           0.390000    -2.000000  \n",
              "50%         0.560000          0.820000           0.980000     0.000000  \n",
              "75%         0.910000          1.410000           1.790000     0.000000  \n",
              "max         2.420000          4.880000           5.950000     0.000000  "
            ]
          },
          "metadata": {
            "tags": []
          },
          "execution_count": 4
        }
      ]
    },
    {
      "metadata": {
        "id": "SHIv7QxG7k74",
        "colab_type": "text"
      },
      "cell_type": "markdown",
      "source": [
        "## Categorizing questions"
      ]
    },
    {
      "metadata": {
        "id": "d--1XlNId5sa",
        "colab_type": "text"
      },
      "cell_type": "markdown",
      "source": [
        "###Creating flags through Hierarchical Clustering"
      ]
    },
    {
      "metadata": {
        "id": "EVuVjAqmDF0x",
        "colab_type": "text"
      },
      "cell_type": "markdown",
      "source": [
        "####**1. By mean TOTAL_TIME for correct responses**"
      ]
    },
    {
      "metadata": {
        "id": "fzmgPc2N73hi",
        "colab_type": "code",
        "colab": {}
      },
      "cell_type": "code",
      "source": [
        "# First, defining the function for Fancy Dendogram\n",
        "\n",
        "def fancy_dendrogram(*args, **kwargs):\n",
        "    max_d = kwargs.pop('max_d', None)\n",
        "    if max_d and 'color_threshold' not in kwargs:\n",
        "        kwargs['color_threshold'] = max_d\n",
        "    annotate_above = kwargs.pop('annotate_above', 0)\n",
        "    plt.figure(figsize=(15,10))\n",
        "    ddata = dendrogram(*args, **kwargs)\n",
        "\n",
        "    if not kwargs.get('no_plot', False):\n",
        "        plt.title('Hierarchical Clustering Dendrogram (truncated)')\n",
        "        plt.xlabel('sample index or (cluster size)')\n",
        "        plt.ylabel('distance')\n",
        "        for i, d, c in zip(ddata['icoord'], ddata['dcoord'], ddata['color_list']):\n",
        "            x = 0.5 * sum(i[1:3])\n",
        "            y = d[1]\n",
        "            if y > annotate_above:\n",
        "                plt.plot(x, y, 'o', c=c)\n",
        "                plt.annotate(\"%.3g\" % y, (x, y), xytext=(0, -5),\n",
        "                             textcoords='offset points',\n",
        "                             va='top', ha='center')\n",
        "        if max_d:\n",
        "            plt.axhline(y=max_d, c='k')\n",
        "    return ddata"
      ],
      "execution_count": 0,
      "outputs": []
    },
    {
      "metadata": {
        "id": "XG6x47EB9d66",
        "colab_type": "code",
        "outputId": "e7dbd7f7-577b-4857-efab-f19081eed464",
        "colab": {
          "base_uri": "https://localhost:8080/",
          "height": 632
        }
      },
      "cell_type": "code",
      "source": [
        "correct_df=input_df.loc[input_df['RESPONSE'] == 1]\n",
        "question_df1=correct_df.groupby(['QUESTION_ID'])['TOTAL_TIME'].mean().reset_index()\n",
        "\n",
        "scaler = StandardScaler()\n",
        "temp_scaled = scaler.fit_transform(question_df1[['TOTAL_TIME']])\n",
        "\n",
        "linked_array = ward(temp_scaled)\n",
        "\n",
        "fancy_dendrogram(\n",
        "    linked_array,\n",
        "    truncate_mode='lastp',\n",
        "    p=30,\n",
        "    leaf_rotation=90.,\n",
        "    leaf_font_size=12.,\n",
        "    show_contracted=True,\n",
        "    annotate_above=10,\n",
        "    max_d=18\n",
        ")\n",
        "\n",
        "plt.show()"
      ],
      "execution_count": 6,
      "outputs": [
        {
          "output_type": "display_data",
          "data": {
            "image/png": "[encoded data removed]",
            "text/plain": [
              "<matplotlib.figure.Figure at 0x7f63cb4470f0>"
            ]
          },
          "metadata": {
            "tags": []
          }
        }
      ]
    },
    {
      "metadata": {
        "id": "kROaXoVrA7ij",
        "colab_type": "code",
        "colab": {
          "base_uri": "https://localhost:8080/",
          "height": 184
        },
        "outputId": "c31180aa-248c-4c38-c2dd-ed604a94c00c"
      },
      "cell_type": "code",
      "source": [
        "max_d = 18\n",
        "\n",
        "clusters = fcluster(linked_array, max_d, criterion='distance')\n",
        "\n",
        "labels, counts = np.unique(clusters, return_counts=True)\n",
        "\n",
        "question_df1['CORRECT_TOTAL_TIME_CLUSTER'] = clusters\n",
        "\n",
        "print('reorder rates for each cluster\\n')\n",
        "for i in range(1,len(np.unique(clusters))+1):\n",
        "    print('\\nlabel: {}'.format(i))\n",
        "    print('n: {}'.format(counts[i-1]))\n",
        "    print('AVERAGE TOTAL TIME FOR CORRECT RESPONSES: {}'.format(round(question_df1[question_df1['CORRECT_TOTAL_TIME_CLUSTER'] == i].TOTAL_TIME.mean(), 2)))"
      ],
      "execution_count": 7,
      "outputs": [
        {
          "output_type": "stream",
          "text": [
            "reorder rates for each cluster\n",
            "\n",
            "\n",
            "label: 1\n",
            "n: 97\n",
            "AVERAGE TOTAL TIME FOR CORRECT RESPONSES: 332.98\n",
            "\n",
            "label: 2\n",
            "n: 721\n",
            "AVERAGE TOTAL TIME FOR CORRECT RESPONSES: 117.94\n"
          ],
          "name": "stdout"
        }
      ]
    },
    {
      "metadata": {
        "id": "FUjpuWl4C4xY",
        "colab_type": "code",
        "colab": {}
      },
      "cell_type": "code",
      "source": [
        "question_df1.loc[question_df1['CORRECT_TOTAL_TIME_CLUSTER'] == 1, 'CORRECT_TOTAL_TIME_FLAG'] = 'HIGH'\n",
        "question_df1.loc[question_df1['CORRECT_TOTAL_TIME_CLUSTER'] == 2, 'CORRECT_TOTAL_TIME_FLAG'] = 'LOW'"
      ],
      "execution_count": 0,
      "outputs": []
    },
    {
      "metadata": {
        "id": "68NAhBhCNi4X",
        "colab_type": "code",
        "colab": {
          "base_uri": "https://localhost:8080/",
          "height": 33
        },
        "outputId": "a189cfac-6d5f-45e0-ba34-15f1e57b1553"
      },
      "cell_type": "code",
      "source": [
        "X = question_df1[['TOTAL_TIME']].as_matrix()\n",
        "# generate the linkage matrix\n",
        "single_link = linkage(X, 'single') # using single link metric to evaluate 'distance' between clusters\n",
        "c, coph_dists = cophenet(single_link, pdist(X))\n",
        "c"
      ],
      "execution_count": 35,
      "outputs": [
        {
          "output_type": "execute_result",
          "data": {
            "text/plain": [
              "0.7644995061811037"
            ]
          },
          "metadata": {
            "tags": []
          },
          "execution_count": 35
        }
      ]
    },
    {
      "metadata": {
        "id": "lboV4LUtDT7Y",
        "colab_type": "text"
      },
      "cell_type": "markdown",
      "source": [
        "####**2. By mean TOTAL_TIME for wrong responses**"
      ]
    },
    {
      "metadata": {
        "id": "mKB29Yx7DZ_7",
        "colab_type": "code",
        "colab": {
          "base_uri": "https://localhost:8080/",
          "height": 632
        },
        "outputId": "f8ba3309-dcf6-4a5b-e5ae-d4a368280120"
      },
      "cell_type": "code",
      "source": [
        "wrong_df=input_df.loc[input_df['RESPONSE'] == 0]\n",
        "question_df2=wrong_df.groupby(['QUESTION_ID'])['TOTAL_TIME'].mean().reset_index()\n",
        "\n",
        "scaler = StandardScaler()\n",
        "temp_scaled = scaler.fit_transform(question_df2[['TOTAL_TIME']])\n",
        "\n",
        "linked_array = ward(temp_scaled)\n",
        "\n",
        "fancy_dendrogram(\n",
        "    linked_array,\n",
        "    truncate_mode='lastp',\n",
        "    p=30,\n",
        "    leaf_rotation=90.,\n",
        "    leaf_font_size=12.,\n",
        "    show_contracted=True,\n",
        "    annotate_above=10,\n",
        "    max_d=18\n",
        ")\n",
        "\n",
        "plt.show()"
      ],
      "execution_count": 9,
      "outputs": [
        {
          "output_type": "display_data",
          "data": {
            "image/png": "[encoded data removed]",
            "text/plain": [
              "<matplotlib.figure.Figure at 0x7f63cb373ef0>"
            ]
          },
          "metadata": {
            "tags": []
          }
        }
      ]
    },
    {
      "metadata": {
        "id": "mahzl_gBDj7n",
        "colab_type": "code",
        "colab": {
          "base_uri": "https://localhost:8080/",
          "height": 184
        },
        "outputId": "6661b2a5-8d81-4cf3-b5db-1dd8e58e57aa"
      },
      "cell_type": "code",
      "source": [
        "max_d = 18\n",
        "\n",
        "clusters = fcluster(linked_array, max_d, criterion='distance')\n",
        "\n",
        "labels, counts = np.unique(clusters, return_counts=True)\n",
        "\n",
        "question_df2['WRONG_TOTAL_TIME_CLUSTER'] = clusters\n",
        "\n",
        "print('reorder rates for each cluster\\n')\n",
        "for i in range(1,len(np.unique(clusters))+1):\n",
        "    print('\\nlabel: {}'.format(i))\n",
        "    print('n: {}'.format(counts[i-1]))\n",
        "    print('TOTAL TIME FOR WRONG RESPONSES: {}'.format(round(question_df2[question_df2['WRONG_TOTAL_TIME_CLUSTER'] == i].TOTAL_TIME.mean(), 2)))"
      ],
      "execution_count": 10,
      "outputs": [
        {
          "output_type": "stream",
          "text": [
            "reorder rates for each cluster\n",
            "\n",
            "\n",
            "label: 1\n",
            "n: 140\n",
            "TOTAL TIME FOR WRONG RESPONSES: 328.92\n",
            "\n",
            "label: 2\n",
            "n: 600\n",
            "TOTAL TIME FOR WRONG RESPONSES: 136.68\n"
          ],
          "name": "stdout"
        }
      ]
    },
    {
      "metadata": {
        "id": "sd43rfOqFkEc",
        "colab_type": "code",
        "colab": {}
      },
      "cell_type": "code",
      "source": [
        "question_df2.loc[question_df2['WRONG_TOTAL_TIME_CLUSTER'] == 1, 'WRONG_TOTAL_TIME_FLAG'] = 'HIGH'\n",
        "question_df2.loc[question_df2['WRONG_TOTAL_TIME_CLUSTER'] == 2, 'WRONG_TOTAL_TIME_FLAG'] = 'LOW'"
      ],
      "execution_count": 0,
      "outputs": []
    },
    {
      "metadata": {
        "id": "0IX3Q1ADNXr-",
        "colab_type": "code",
        "colab": {
          "base_uri": "https://localhost:8080/",
          "height": 33
        },
        "outputId": "d9dfafef-3e98-4b38-809b-5d93ab9092e9"
      },
      "cell_type": "code",
      "source": [
        "X = question_df2[['TOTAL_TIME']].as_matrix()\n",
        "# generate the linkage matrix\n",
        "single_link = linkage(X, 'single') # using single link metric to evaluate 'distance' between clusters\n",
        "c, coph_dists = cophenet(single_link, pdist(X))\n",
        "c"
      ],
      "execution_count": 34,
      "outputs": [
        {
          "output_type": "execute_result",
          "data": {
            "text/plain": [
              "0.7496513458230795"
            ]
          },
          "metadata": {
            "tags": []
          },
          "execution_count": 34
        }
      ]
    },
    {
      "metadata": {
        "id": "8NWHNMJDS5Rz",
        "colab_type": "text"
      },
      "cell_type": "markdown",
      "source": [
        "####**3. By mean success rate (to gauge difficulty level)**"
      ]
    },
    {
      "metadata": {
        "id": "id2xYwnhS_N5",
        "colab_type": "code",
        "colab": {
          "base_uri": "https://localhost:8080/",
          "height": 638
        },
        "outputId": "17638b4e-5daf-4701-c838-ec31a07227d8"
      },
      "cell_type": "code",
      "source": [
        "question_df3=input_df.groupby(['QUESTION_ID'])['RESPONSE'].mean().reset_index()\n",
        "\n",
        "scaler = StandardScaler()\n",
        "temp_scaled = scaler.fit_transform(question_df3[['RESPONSE']])\n",
        "\n",
        "linked_array = ward(temp_scaled)\n",
        "\n",
        "fancy_dendrogram(\n",
        "    linked_array,\n",
        "    truncate_mode='lastp',\n",
        "    p=30,\n",
        "    leaf_rotation=90.,\n",
        "    leaf_font_size=12.,\n",
        "    show_contracted=True,\n",
        "    annotate_above=10,\n",
        "    max_d=19\n",
        ")\n",
        "\n",
        "plt.show()"
      ],
      "execution_count": 12,
      "outputs": [
        {
          "output_type": "display_data",
          "data": {
            "image/png": "[encoded data removed]",
            "text/plain": [
              "<matplotlib.figure.Figure at 0x7f63c8867c88>"
            ]
          },
          "metadata": {
            "tags": []
          }
        }
      ]
    },
    {
      "metadata": {
        "id": "ZP4DChSAVZwc",
        "colab_type": "code",
        "colab": {
          "base_uri": "https://localhost:8080/",
          "height": 251
        },
        "outputId": "7ec5b623-7bd5-4996-a8da-4430a171e49f"
      },
      "cell_type": "code",
      "source": [
        "max_d = 19\n",
        "\n",
        "clusters = fcluster(linked_array, max_d, criterion='distance')\n",
        "\n",
        "labels, counts = np.unique(clusters, return_counts=True)\n",
        "\n",
        "question_df3['CORRECT_RATE_CLUSTER'] = clusters\n",
        "\n",
        "print('reorder rates for each cluster\\n')\n",
        "for i in range(1,len(np.unique(clusters))+1):\n",
        "    print('\\nlabel: {}'.format(i))\n",
        "    print('n: {}'.format(counts[i-1]))\n",
        "    print('CORRECT RATE: {}'.format(round(question_df3[question_df3['CORRECT_RATE_CLUSTER'] == i].RESPONSE.mean(), 2)))"
      ],
      "execution_count": 13,
      "outputs": [
        {
          "output_type": "stream",
          "text": [
            "reorder rates for each cluster\n",
            "\n",
            "\n",
            "label: 1\n",
            "n: 411\n",
            "CORRECT RATE: 0.89\n",
            "\n",
            "label: 2\n",
            "n: 141\n",
            "CORRECT RATE: 0.04\n",
            "\n",
            "label: 3\n",
            "n: 369\n",
            "CORRECT RATE: 0.5\n"
          ],
          "name": "stdout"
        }
      ]
    },
    {
      "metadata": {
        "id": "dzHxPQgMVscA",
        "colab_type": "code",
        "colab": {}
      },
      "cell_type": "code",
      "source": [
        "question_df3.loc[question_df3['CORRECT_RATE_CLUSTER'] == 1, 'DIFFICULTY_FLAG'] = 'LOW'\n",
        "question_df3.loc[question_df3['CORRECT_RATE_CLUSTER'] == 2, 'DIFFICULTY_FLAG'] = 'HIGH'\n",
        "question_df3.loc[question_df3['CORRECT_RATE_CLUSTER'] == 2, 'DIFFICULTY_FLAG'] = 'MEDIUM'"
      ],
      "execution_count": 0,
      "outputs": []
    },
    {
      "metadata": {
        "id": "3QNknn7vNQUK",
        "colab_type": "code",
        "colab": {
          "base_uri": "https://localhost:8080/",
          "height": 33
        },
        "outputId": "f9df1319-5328-4259-e44c-be2a69d2d579"
      },
      "cell_type": "code",
      "source": [
        "# Validation\n",
        "\n",
        "X = question_df3[['RESPONSE']].as_matrix()\n",
        "# generate the linkage matrix\n",
        "single_link = linkage(X, 'single') # using single link metric to evaluate 'distance' between clusters\n",
        "c, coph_dists = cophenet(single_link, pdist(X))\n",
        "c"
      ],
      "execution_count": 33,
      "outputs": [
        {
          "output_type": "execute_result",
          "data": {
            "text/plain": [
              "0.7118991975913315"
            ]
          },
          "metadata": {
            "tags": []
          },
          "execution_count": 33
        }
      ]
    },
    {
      "metadata": {
        "id": "0wPYm7G6W1aM",
        "colab_type": "text"
      },
      "cell_type": "markdown",
      "source": [
        "####**4. By mean TOTAL_DELAY_1S for correct responses**"
      ]
    },
    {
      "metadata": {
        "id": "UFPYNcypDMTB",
        "colab_type": "code",
        "colab": {
          "base_uri": "https://localhost:8080/",
          "height": 632
        },
        "outputId": "a9aadcac-b389-45aa-d7ee-e15a2c84937f"
      },
      "cell_type": "code",
      "source": [
        "question_df4=correct_df.groupby(['QUESTION_ID'])['TOTAL_DELAY_1S'].mean().reset_index()\n",
        "\n",
        "scaler = StandardScaler()\n",
        "temp_scaled = scaler.fit_transform(question_df4[['TOTAL_DELAY_1S']])\n",
        "\n",
        "linked_array = ward(temp_scaled)\n",
        "\n",
        "fancy_dendrogram(\n",
        "    linked_array,\n",
        "    truncate_mode='lastp',\n",
        "    p=30,\n",
        "    leaf_rotation=90.,\n",
        "    leaf_font_size=12.,\n",
        "    show_contracted=True,\n",
        "    annotate_above=10,\n",
        "    max_d=19\n",
        ")\n",
        "\n",
        "plt.show()"
      ],
      "execution_count": 18,
      "outputs": [
        {
          "output_type": "display_data",
          "data": {
            "image/png": "[encoded data removed]",
            "text/plain": [
              "<matplotlib.figure.Figure at 0x7f63c8315ef0>"
            ]
          },
          "metadata": {
            "tags": []
          }
        }
      ]
    },
    {
      "metadata": {
        "id": "KjSHGQmDLcZn",
        "colab_type": "code",
        "colab": {
          "base_uri": "https://localhost:8080/",
          "height": 184
        },
        "outputId": "abea3d36-8ceb-4624-b2ca-9979d19bb503"
      },
      "cell_type": "code",
      "source": [
        "max_d = 19\n",
        "\n",
        "clusters = fcluster(linked_array, max_d, criterion='distance')\n",
        "\n",
        "labels, counts = np.unique(clusters, return_counts=True)\n",
        "\n",
        "question_df4['CORRECT_DELAY_CLUSTER'] = clusters\n",
        "\n",
        "print('reorder rates for each cluster\\n')\n",
        "for i in range(1,len(np.unique(clusters))+1):\n",
        "    print('\\nlabel: {}'.format(i))\n",
        "    print('n: {}'.format(counts[i-1]))\n",
        "    print('AVERAGE DELAY COUNT FOR CORRECT RESPONSES: {}'.format(round(question_df4[question_df4['CORRECT_DELAY_CLUSTER'] == i].TOTAL_DELAY_1S.mean(), 2)))"
      ],
      "execution_count": 19,
      "outputs": [
        {
          "output_type": "stream",
          "text": [
            "reorder rates for each cluster\n",
            "\n",
            "\n",
            "label: 1\n",
            "n: 607\n",
            "AVERAGE DELAY COUNT FOR CORRECT RESPONSES: 86.98\n",
            "\n",
            "label: 2\n",
            "n: 211\n",
            "AVERAGE DELAY COUNT FOR CORRECT RESPONSES: 219.06\n"
          ],
          "name": "stdout"
        }
      ]
    },
    {
      "metadata": {
        "id": "TiFZXieyMBmJ",
        "colab_type": "code",
        "colab": {}
      },
      "cell_type": "code",
      "source": [
        "question_df4.loc[question_df4['CORRECT_DELAY_CLUSTER'] == 1, 'CORRECT_DELAY_FLAG'] = 'LOW'\n",
        "question_df4.loc[question_df4['CORRECT_DELAY_CLUSTER'] == 2, 'CORRECT_DELAY_FLAG'] = 'HIGH'"
      ],
      "execution_count": 0,
      "outputs": []
    },
    {
      "metadata": {
        "id": "anD7117kNGuc",
        "colab_type": "code",
        "colab": {
          "base_uri": "https://localhost:8080/",
          "height": 33
        },
        "outputId": "09fc01ee-71be-46cc-cb29-bdd985ef8312"
      },
      "cell_type": "code",
      "source": [
        "# Validation\n",
        "\n",
        "X = question_df4[['TOTAL_DELAY_1S']].as_matrix()\n",
        "# generate the linkage matrix\n",
        "single_link = linkage(X, 'single') # using single link metric to evaluate 'distance' between clusters\n",
        "c, coph_dists = cophenet(single_link, pdist(X))\n",
        "c"
      ],
      "execution_count": 32,
      "outputs": [
        {
          "output_type": "execute_result",
          "data": {
            "text/plain": [
              "0.7655047660093884"
            ]
          },
          "metadata": {
            "tags": []
          },
          "execution_count": 32
        }
      ]
    },
    {
      "metadata": {
        "id": "msne-A-rFweo",
        "colab_type": "text"
      },
      "cell_type": "markdown",
      "source": [
        "####**5. By mean TOTAL_DELAY_1S for wrong responses**"
      ]
    },
    {
      "metadata": {
        "id": "6vZKY_4hPg1T",
        "colab_type": "code",
        "colab": {
          "base_uri": "https://localhost:8080/",
          "height": 632
        },
        "outputId": "d1692847-db0d-4703-c388-bf9e697e67e9"
      },
      "cell_type": "code",
      "source": [
        "question_df5=wrong_df.groupby(['QUESTION_ID'])['TOTAL_DELAY_1S'].mean().reset_index()\n",
        "\n",
        "scaler = StandardScaler()\n",
        "temp_scaled = scaler.fit_transform(question_df5[['TOTAL_DELAY_1S']])\n",
        "\n",
        "linked_array = ward(temp_scaled)\n",
        "\n",
        "fancy_dendrogram(\n",
        "    linked_array,\n",
        "    truncate_mode='lastp',\n",
        "    p=30,\n",
        "    leaf_rotation=90.,\n",
        "    leaf_font_size=12.,\n",
        "    show_contracted=True,\n",
        "    annotate_above=10,\n",
        "    max_d=21\n",
        ")\n",
        "\n",
        "plt.show()"
      ],
      "execution_count": 23,
      "outputs": [
        {
          "output_type": "display_data",
          "data": {
            "image/png": "[encoded data removed]",
            "text/plain": [
              "<matplotlib.figure.Figure at 0x7f63c848e470>"
            ]
          },
          "metadata": {
            "tags": []
          }
        }
      ]
    },
    {
      "metadata": {
        "id": "gar8Tcu3QJd6",
        "colab_type": "code",
        "colab": {
          "base_uri": "https://localhost:8080/",
          "height": 184
        },
        "outputId": "294f243a-7428-4a17-847a-4c0106aa73a6"
      },
      "cell_type": "code",
      "source": [
        "max_d = 21\n",
        "\n",
        "clusters = fcluster(linked_array, max_d, criterion='distance')\n",
        "\n",
        "labels, counts = np.unique(clusters, return_counts=True)\n",
        "\n",
        "question_df5['WRONG_DELAY_CLUSTER'] = clusters\n",
        "\n",
        "print('reorder rates for each cluster\\n')\n",
        "for i in range(1,len(np.unique(clusters))+1):\n",
        "    print('\\nlabel: {}'.format(i))\n",
        "    print('n: {}'.format(counts[i-1]))\n",
        "    print('AVERAGE DELAY COUNT FOR WRONG RESPONSES: {}'.format(round(question_df5[question_df5['WRONG_DELAY_CLUSTER'] == i].TOTAL_DELAY_1S.mean(), 2)))"
      ],
      "execution_count": 24,
      "outputs": [
        {
          "output_type": "stream",
          "text": [
            "reorder rates for each cluster\n",
            "\n",
            "\n",
            "label: 1\n",
            "n: 50\n",
            "AVERAGE DELAY COUNT FOR WRONG RESPONSES: 366.63\n",
            "\n",
            "label: 2\n",
            "n: 690\n",
            "AVERAGE DELAY COUNT FOR WRONG RESPONSES: 134.65\n"
          ],
          "name": "stdout"
        }
      ]
    },
    {
      "metadata": {
        "id": "ph_jUl98wvfM",
        "colab_type": "code",
        "colab": {}
      },
      "cell_type": "code",
      "source": [
        "question_df5.loc[question_df5['WRONG_DELAY_CLUSTER'] == 1, 'WRONG_DELAY_FLAG'] = 'HIGH'\n",
        "question_df5.loc[question_df5['WRONG_DELAY_CLUSTER'] == 2, 'WRONG_DELAY_FLAG'] = 'LOW'"
      ],
      "execution_count": 0,
      "outputs": []
    },
    {
      "metadata": {
        "id": "YS2Cm1_DM5_-",
        "colab_type": "code",
        "colab": {
          "base_uri": "https://localhost:8080/",
          "height": 33
        },
        "outputId": "ce816a24-84cf-43e4-ab72-2dcbf9669742"
      },
      "cell_type": "code",
      "source": [
        "# Validation\n",
        "\n",
        "X = question_df5[['TOTAL_DELAY_1S']].as_matrix()\n",
        "# generate the linkage matrix\n",
        "single_link = linkage(X, 'single') # using single link metric to evaluate 'distance' between clusters\n",
        "c, coph_dists = cophenet(single_link, pdist(X))\n",
        "c"
      ],
      "execution_count": 31,
      "outputs": [
        {
          "output_type": "execute_result",
          "data": {
            "text/plain": [
              "0.7229404128821242"
            ]
          },
          "metadata": {
            "tags": []
          },
          "execution_count": 31
        }
      ]
    },
    {
      "metadata": {
        "id": "SklfzFFP7DKH",
        "colab_type": "text"
      },
      "cell_type": "markdown",
      "source": [
        "####**6. By mean AVERAGE_SPEED for correct responses**"
      ]
    },
    {
      "metadata": {
        "id": "O4jZZVFwCDhh",
        "colab_type": "code",
        "colab": {
          "base_uri": "https://localhost:8080/",
          "height": 632
        },
        "outputId": "4373a6e0-d380-414e-f157-de14735d95fa"
      },
      "cell_type": "code",
      "source": [
        "question_df6=correct_df.groupby(['QUESTION_ID'])['AVERAGE_SPEED'].mean().reset_index()\n",
        "\n",
        "scaler = StandardScaler()\n",
        "temp_scaled = scaler.fit_transform(question_df6[['AVERAGE_SPEED']])\n",
        "\n",
        "linked_array = ward(temp_scaled)\n",
        "\n",
        "fancy_dendrogram(\n",
        "    linked_array,\n",
        "    truncate_mode='lastp',\n",
        "    p=30,\n",
        "    leaf_rotation=90.,\n",
        "    leaf_font_size=12.,\n",
        "    show_contracted=True,\n",
        "    annotate_above=10,\n",
        "    max_d=19\n",
        ")\n",
        "\n",
        "plt.show()"
      ],
      "execution_count": 27,
      "outputs": [
        {
          "output_type": "display_data",
          "data": {
            "image/png": "[encoded data removed]",
            "text/plain": [
              "<matplotlib.figure.Figure at 0x7f63c896ea90>"
            ]
          },
          "metadata": {
            "tags": []
          }
        }
      ]
    },
    {
      "metadata": {
        "id": "9jykno5bLNwJ",
        "colab_type": "code",
        "colab": {
          "base_uri": "https://localhost:8080/",
          "height": 184
        },
        "outputId": "6f1ea66c-8a45-43f4-a526-4ec327cd0f61"
      },
      "cell_type": "code",
      "source": [
        "max_d = 21\n",
        "\n",
        "clusters = fcluster(linked_array, max_d, criterion='distance')\n",
        "\n",
        "labels, counts = np.unique(clusters, return_counts=True)\n",
        "\n",
        "question_df6['CORRECT_SPEED_CLUSTER'] = clusters\n",
        "\n",
        "print('reorder rates for each cluster\\n')\n",
        "for i in range(1,len(np.unique(clusters))+1):\n",
        "    print('\\nlabel: {}'.format(i))\n",
        "    print('n: {}'.format(counts[i-1]))\n",
        "    print('AVERAGE SPEED FOR CORRECT RESPONSES: {}'.format(round(question_df6[question_df6['CORRECT_SPEED_CLUSTER'] == i].AVERAGE_SPEED.mean(), 2)))"
      ],
      "execution_count": 28,
      "outputs": [
        {
          "output_type": "stream",
          "text": [
            "reorder rates for each cluster\n",
            "\n",
            "\n",
            "label: 1\n",
            "n: 350\n",
            "AVERAGE SPEED FOR CORRECT RESPONSES: 0.38\n",
            "\n",
            "label: 2\n",
            "n: 468\n",
            "AVERAGE SPEED FOR CORRECT RESPONSES: 0.9\n"
          ],
          "name": "stdout"
        }
      ]
    },
    {
      "metadata": {
        "id": "oMsEiltKLyZn",
        "colab_type": "code",
        "colab": {}
      },
      "cell_type": "code",
      "source": [
        "question_df6.loc[question_df6['CORRECT_SPEED_CLUSTER'] == 1, 'CORRECT_SPEED_FLAG'] = 'LOW'\n",
        "question_df6.loc[question_df6['CORRECT_SPEED_CLUSTER'] == 2, 'CORRECT_SPEED_FLAG'] = 'HIGH'"
      ],
      "execution_count": 0,
      "outputs": []
    },
    {
      "metadata": {
        "id": "9yYMbwHDMQTw",
        "colab_type": "code",
        "colab": {
          "base_uri": "https://localhost:8080/",
          "height": 33
        },
        "outputId": "f00b51c4-409a-40c7-a09f-8886f45ce3e4"
      },
      "cell_type": "code",
      "source": [
        "# Validation\n",
        "\n",
        "X = question_df6[['AVERAGE_SPEED']].as_matrix()\n",
        "# generate the linkage matrix\n",
        "single_link = linkage(X, 'single') # using single link metric to evaluate 'distance' between clusters\n",
        "c, coph_dists = cophenet(single_link, pdist(X))\n",
        "c"
      ],
      "execution_count": 30,
      "outputs": [
        {
          "output_type": "execute_result",
          "data": {
            "text/plain": [
              "0.5903479327027877"
            ]
          },
          "metadata": {
            "tags": []
          },
          "execution_count": 30
        }
      ]
    },
    {
      "metadata": {
        "id": "JoGxvgjpRnxg",
        "colab_type": "text"
      },
      "cell_type": "markdown",
      "source": [
        "### Merging all the flags into one table"
      ]
    },
    {
      "metadata": {
        "id": "A3wask21d0S_",
        "colab_type": "code",
        "colab": {}
      },
      "cell_type": "code",
      "source": [
        "question_df_list = [question_df1,question_df2,question_df3,question_df4,question_df5,question_df6]\n",
        "question_df_all = reduce(lambda left,right: pd.merge(left,right,on=['QUESTION_ID']), question_df_list)"
      ],
      "execution_count": 0,
      "outputs": []
    }
  ]
}